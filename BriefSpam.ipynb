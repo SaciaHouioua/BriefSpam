{
 "cells": [
  {
   "cell_type": "code",
   "execution_count": 4,
   "metadata": {
    "scrolled": false
   },
   "outputs": [
    {
     "name": "stdout",
     "output_type": "stream",
     "text": [
      "['Myriam', 'Sacia', 'Fatima', 'Pierre-Etienne']\n",
      "['Olivier', 'Jean-Pierre', 'Ludo', 'Julien']\n",
      "['Joshua', 'Caroline', 'Dan', 'Constant']\n",
      "['Hachem', 'Anthony', 'Cecilia', 'Wiem']\n",
      "['Nidhal', 'Ines', 'Roger', 'Xavier', 'Bassem']\n"
     ]
    }
   ],
   "source": [
    "import numpy as np\n",
    "\n",
    "app = 'Anthony Constant Joshua Fatima Julien Bassem Caroline Dan Ines Nidhal Sacia Xavier Roger Hachem Jean-Pierre Myriam Ludo Olivier Pierre-Etienne Wiem Cecilia'.split()\n",
    "np.random.seed(1)\n",
    "rapp = [app[i] for i in np.random.choice(21, 21, replace=False)]\n",
    "for i in range(5):\n",
    "    print(rapp[4*i:4*i+4] + ([rapp[-1]] if i == 4 else []))"
   ]
  },
  {
   "cell_type": "raw",
   "metadata": {},
   "source": [
    "# Somes definitions\n",
    "\n",
    "* Stemming is the process of producing morphological variants of a root/base word.\n",
    "\n",
    "* Lemmatization is the process of grouping together the different inflected forms of a word so they can be analysed as a single item. Lemmatization is similar to stemming but it brings context to the words. So it links words with similar meaning to one word. \n",
    "\n",
    "* Stop Words: A stop word is a commonly used word (such as “the”, “a”, “an”, “in”) that a search engine has been programmed to ignore. The process of converting data to something a computer can understand is referred to as pre-processing. One of the major forms of pre-processing is to filter out useless data. In natural language processing, useless words (data), are referred to as stop words."
   ]
  },
  {
   "cell_type": "code",
   "execution_count": 212,
   "metadata": {},
   "outputs": [
    {
     "name": "stdout",
     "output_type": "stream",
     "text": [
      "showing info https://raw.githubusercontent.com/nltk/nltk_data/gh-pages/index.xml\n"
     ]
    },
    {
     "data": {
      "text/plain": [
       "True"
      ]
     },
     "execution_count": 212,
     "metadata": {},
     "output_type": "execute_result"
    }
   ],
   "source": [
    "import nltk\n",
    "nltk.download()\n",
    "#the most populars packages"
   ]
  },
  {
   "cell_type": "code",
   "execution_count": 213,
   "metadata": {},
   "outputs": [
    {
     "name": "stdout",
     "output_type": "stream",
     "text": [
      "{'and', \"wouldn't\", 'over', 'yourselves', 'off', 'why', 'couldn', \"it's\", 'that', 'wouldn', 'where', \"you'll\", 'so', 'very', 'when', \"wasn't\", 'both', 'such', \"aren't\", 'mightn', \"won't\", 'have', 'be', 'him', 'until', 'an', \"should've\", 'theirs', 'how', 'having', 'nor', 'about', 'his', 'their', 'themselves', 'were', \"weren't\", 'hasn', 'while', 'being', 'ourselves', 'himself', 're', 'a', 'than', 'them', 'was', 'weren', 'whom', 'did', 'doesn', \"hadn't\", 'but', 'same', 'after', 'didn', 'or', 'between', \"didn't\", 'there', 'above', 'all', 'on', 'isn', 'mustn', 'below', 't', \"that'll\", 'few', 'against', 'not', \"you'd\", 'as', 'does', 'own', 'wasn', 'am', 'of', \"hasn't\", \"haven't\", 'at', \"you've\", 'll', \"she's\", \"mightn't\", 'yourself', \"couldn't\", 'myself', 'which', 'aren', 'has', 'too', 'your', 'are', 'no', 'our', 'for', 've', 'ma', 'itself', 'd', 'more', 'haven', \"needn't\", 'she', 'here', 'ours', 'i', 'under', 'y', 'do', 'you', 'shan', 'because', 'will', \"shan't\", 'her', \"mustn't\", 'some', 'up', 'in', 'hers', 'who', 'by', 'other', 'with', 's', \"you're\", \"don't\", 'hadn', 'we', 'been', 'had', 'each', 'again', 'now', 'they', 'its', 'can', \"isn't\", 'those', 'it', 'only', 'don', 'me', 'to', 'shouldn', 'down', 'most', 'won', 'from', \"doesn't\", 'this', 'he', 'is', 'during', 'herself', 'before', 'should', 'just', 'my', 'any', 'further', 'm', 'then', 'o', 'needn', 'through', 'these', 'once', 'yours', 'doing', \"shouldn't\", 'the', 'if', 'into', 'what', 'ain', 'out'}\n"
     ]
    }
   ],
   "source": [
    "from nltk.corpus import stopwords\n",
    "print(set(stopwords.words('english')))"
   ]
  },
  {
   "cell_type": "code",
   "execution_count": 247,
   "metadata": {},
   "outputs": [
    {
     "name": "stdout",
     "output_type": "stream",
     "text": [
      "\n"
     ]
    }
   ],
   "source": [
    "# récupérer les donées : 1ere méthode\n",
    "\n",
    "f = open('SMSSpamCollection.txt', 'r') \n",
    "data = f.read()\n",
    "\n",
    "print(f.readline())"
   ]
  },
  {
   "cell_type": "code",
   "execution_count": 18,
   "metadata": {},
   "outputs": [
    {
     "name": "stdout",
     "output_type": "stream",
     "text": [
      "['This', 'is', 'a', 'sample', 'sentence', ',', 'showing', 'off', 'the', 'stop', 'words', 'filtration', '.']\n",
      "['This', 'sample', 'sentence', ',', 'showing', 'stop', 'words', 'filtration', '.']\n"
     ]
    }
   ],
   "source": [
    "\n",
    "from nltk.corpus import stopwords  \n",
    "from nltk.tokenize import word_tokenize  \n",
    "  \n",
    "example_sent = \"\"\"This is a sample sentence, \n",
    "                  showing off the stop words filtration.\"\"\"\n",
    "  \n",
    "stop_words = set(stopwords.words('english'))  \n",
    "  \n",
    "word_tokens = word_tokenize(example_sent)  \n",
    "  \n",
    "filtered_sentence = [w for w in word_tokens if not w in stop_words]  \n",
    "  \n",
    "filtered_sentence = []  \n",
    "  \n",
    "for w in word_tokens:  \n",
    "    if w not in stop_words:  \n",
    "        filtered_sentence.append(w)  \n",
    "  \n",
    "print(word_tokens)  \n",
    "print(filtered_sentence)  \n"
   ]
  },
  {
   "cell_type": "code",
   "execution_count": 319,
   "metadata": {
    "scrolled": true
   },
   "outputs": [
    {
     "data": {
      "text/html": [
       "<div>\n",
       "<style scoped>\n",
       "    .dataframe tbody tr th:only-of-type {\n",
       "        vertical-align: middle;\n",
       "    }\n",
       "\n",
       "    .dataframe tbody tr th {\n",
       "        vertical-align: top;\n",
       "    }\n",
       "\n",
       "    .dataframe thead th {\n",
       "        text-align: right;\n",
       "    }\n",
       "</style>\n",
       "<table border=\"1\" class=\"dataframe\">\n",
       "  <thead>\n",
       "    <tr style=\"text-align: right;\">\n",
       "      <th></th>\n",
       "      <th>0</th>\n",
       "      <th>1</th>\n",
       "    </tr>\n",
       "  </thead>\n",
       "  <tbody>\n",
       "    <tr>\n",
       "      <th>0</th>\n",
       "      <td>ham</td>\n",
       "      <td>Go until jurong point, crazy.. Available only ...</td>\n",
       "    </tr>\n",
       "    <tr>\n",
       "      <th>1</th>\n",
       "      <td>ham</td>\n",
       "      <td>Ok lar... Joking wif u oni...</td>\n",
       "    </tr>\n",
       "    <tr>\n",
       "      <th>2</th>\n",
       "      <td>spam</td>\n",
       "      <td>Free entry in 2 a wkly comp to win FA Cup fina...</td>\n",
       "    </tr>\n",
       "    <tr>\n",
       "      <th>3</th>\n",
       "      <td>ham</td>\n",
       "      <td>U dun say so early hor... U c already then say...</td>\n",
       "    </tr>\n",
       "    <tr>\n",
       "      <th>4</th>\n",
       "      <td>ham</td>\n",
       "      <td>Nah I don't think he goes to usf, he lives aro...</td>\n",
       "    </tr>\n",
       "    <tr>\n",
       "      <th>...</th>\n",
       "      <td>...</td>\n",
       "      <td>...</td>\n",
       "    </tr>\n",
       "    <tr>\n",
       "      <th>5567</th>\n",
       "      <td>spam</td>\n",
       "      <td>This is the 2nd time we have tried 2 contact u...</td>\n",
       "    </tr>\n",
       "    <tr>\n",
       "      <th>5568</th>\n",
       "      <td>ham</td>\n",
       "      <td>Will ü b going to esplanade fr home?</td>\n",
       "    </tr>\n",
       "    <tr>\n",
       "      <th>5569</th>\n",
       "      <td>ham</td>\n",
       "      <td>Pity, * was in mood for that. So...any other s...</td>\n",
       "    </tr>\n",
       "    <tr>\n",
       "      <th>5570</th>\n",
       "      <td>ham</td>\n",
       "      <td>The guy did some bitching but I acted like i'd...</td>\n",
       "    </tr>\n",
       "    <tr>\n",
       "      <th>5571</th>\n",
       "      <td>ham</td>\n",
       "      <td>Rofl. Its true to its name</td>\n",
       "    </tr>\n",
       "  </tbody>\n",
       "</table>\n",
       "<p>5572 rows × 2 columns</p>\n",
       "</div>"
      ],
      "text/plain": [
       "         0                                                  1\n",
       "0      ham  Go until jurong point, crazy.. Available only ...\n",
       "1      ham                      Ok lar... Joking wif u oni...\n",
       "2     spam  Free entry in 2 a wkly comp to win FA Cup fina...\n",
       "3      ham  U dun say so early hor... U c already then say...\n",
       "4      ham  Nah I don't think he goes to usf, he lives aro...\n",
       "...    ...                                                ...\n",
       "5567  spam  This is the 2nd time we have tried 2 contact u...\n",
       "5568   ham               Will ü b going to esplanade fr home?\n",
       "5569   ham  Pity, * was in mood for that. So...any other s...\n",
       "5570   ham  The guy did some bitching but I acted like i'd...\n",
       "5571   ham                         Rofl. Its true to its name\n",
       "\n",
       "[5572 rows x 2 columns]"
      ]
     },
     "execution_count": 319,
     "metadata": {},
     "output_type": "execute_result"
    }
   ],
   "source": [
    "#2 eme méthode pour récupérer les données \n",
    "\n",
    "dataset=pd.read_csv(\"SMSSpamCollection.txt\",delimiter=\"\\t\", header=None)\n",
    "dataset"
   ]
  },
  {
   "cell_type": "code",
   "execution_count": 249,
   "metadata": {},
   "outputs": [
    {
     "data": {
      "text/plain": [
       "0        ham\n",
       "1        ham\n",
       "2       spam\n",
       "3        ham\n",
       "4        ham\n",
       "        ... \n",
       "5567    spam\n",
       "5568     ham\n",
       "5569     ham\n",
       "5570     ham\n",
       "5571     ham\n",
       "Name: 0, Length: 5572, dtype: object"
      ]
     },
     "execution_count": 249,
     "metadata": {},
     "output_type": "execute_result"
    }
   ],
   "source": [
    "dataset[0]"
   ]
  },
  {
   "cell_type": "code",
   "execution_count": 250,
   "metadata": {
    "scrolled": false
   },
   "outputs": [
    {
     "data": {
      "text/plain": [
       "0       Go until jurong point, crazy.. Available only ...\n",
       "1                           Ok lar... Joking wif u oni...\n",
       "2       Free entry in 2 a wkly comp to win FA Cup fina...\n",
       "3       U dun say so early hor... U c already then say...\n",
       "4       Nah I don't think he goes to usf, he lives aro...\n",
       "                              ...                        \n",
       "5567    This is the 2nd time we have tried 2 contact u...\n",
       "5568                 Will ü b going to esplanade fr home?\n",
       "5569    Pity, * was in mood for that. So...any other s...\n",
       "5570    The guy did some bitching but I acted like i'd...\n",
       "5571                           Rofl. Its true to its name\n",
       "Name: 1, Length: 5572, dtype: object"
      ]
     },
     "execution_count": 250,
     "metadata": {},
     "output_type": "execute_result"
    }
   ],
   "source": [
    "dataset[1]"
   ]
  },
  {
   "cell_type": "code",
   "execution_count": 320,
   "metadata": {
    "scrolled": true
   },
   "outputs": [],
   "source": [
    "# préparation du corpus \"features\"\n",
    "corpus = list(dataset[1])\n"
   ]
  },
  {
   "cell_type": "code",
   "execution_count": 321,
   "metadata": {},
   "outputs": [],
   "source": [
    "# preparation des targets\n",
    "targets = list(dataset[0])\n",
    "targets = [1 if x == \"ham\" else 0 for x in targets]"
   ]
  },
  {
   "cell_type": "code",
   "execution_count": 322,
   "metadata": {},
   "outputs": [],
   "source": [
    "from sklearn.feature_extraction.text import CountVectorizer\n",
    "\n",
    "#vectoriser = countVectorizer() sans stop_words\n",
    "cv = CountVectorizer()\n",
    "\n",
    "X = cv.fit_transform(corpus)"
   ]
  },
  {
   "cell_type": "code",
   "execution_count": 359,
   "metadata": {},
   "outputs": [
    {
     "name": "stdout",
     "output_type": "stream",
     "text": [
      "(5572, 8713)\n",
      "74169\n"
     ]
    }
   ],
   "source": [
    "# la taille de la matrice obtenue\n",
    "print(X.shape)\n",
    "print(X.size)"
   ]
  },
  {
   "cell_type": "code",
   "execution_count": 260,
   "metadata": {},
   "outputs": [
    {
     "name": "stdout",
     "output_type": "stream",
     "text": [
      "  (0, 3571)\t1\n",
      "  (0, 8084)\t1\n",
      "  (0, 4374)\t1\n",
      "  (0, 5958)\t1\n",
      "  (0, 2338)\t1\n",
      "  (0, 1316)\t1\n",
      "  (0, 5571)\t1\n",
      "  (0, 4114)\t1\n",
      "  (0, 1767)\t1\n",
      "  (0, 3655)\t1\n",
      "  (0, 8548)\t1\n",
      "  (0, 4501)\t1\n",
      "  (0, 1765)\t1\n",
      "  (0, 2061)\t1\n",
      "  (0, 7694)\t1\n",
      "  (0, 3615)\t1\n",
      "  (0, 1082)\t1\n",
      "  (0, 8324)\t1\n",
      "  (1, 5538)\t1\n",
      "  (1, 4537)\t1\n",
      "  (1, 4342)\t1\n",
      "  (1, 8450)\t1\n",
      "  (1, 5567)\t1\n",
      "  (2, 4114)\t1\n",
      "  (2, 3373)\t1\n",
      "  :\t:\n",
      "  (5570, 4245)\t1\n",
      "  (5570, 8371)\t1\n",
      "  (5570, 1097)\t1\n",
      "  (5570, 4642)\t1\n",
      "  (5570, 7089)\t1\n",
      "  (5570, 3323)\t1\n",
      "  (5570, 7674)\t1\n",
      "  (5570, 1451)\t1\n",
      "  (5570, 5367)\t1\n",
      "  (5570, 2606)\t1\n",
      "  (5570, 8120)\t1\n",
      "  (5570, 1794)\t1\n",
      "  (5570, 7099)\t1\n",
      "  (5570, 2905)\t1\n",
      "  (5570, 3489)\t1\n",
      "  (5570, 1802)\t1\n",
      "  (5570, 3709)\t1\n",
      "  (5570, 4188)\t1\n",
      "  (5570, 914)\t1\n",
      "  (5570, 1561)\t1\n",
      "  (5571, 7806)\t1\n",
      "  (5571, 5276)\t1\n",
      "  (5571, 4253)\t2\n",
      "  (5571, 7938)\t1\n",
      "  (5571, 6548)\t1\n"
     ]
    }
   ],
   "source": [
    "print(X)"
   ]
  },
  {
   "cell_type": "code",
   "execution_count": 351,
   "metadata": {
    "scrolled": true
   },
   "outputs": [
    {
     "data": {
      "text/plain": [
       "matrix([[4356, 4861, 4860, ..., 7674, 8668, 7806]])"
      ]
     },
     "execution_count": 351,
     "metadata": {},
     "output_type": "execute_result"
    }
   ],
   "source": [
    "# le nombre de mots se trouvant dans la matrice obtenu \n",
    "\n",
    "ListWord = np.argsort(X.sum(0))\n",
    "ListWord[[0]]"
   ]
  },
  {
   "cell_type": "code",
   "execution_count": 352,
   "metadata": {
    "scrolled": true
   },
   "outputs": [
    {
     "name": "stdout",
     "output_type": "stream",
     "text": [
      "[[4356 4861 4860 ... 7674 8668 7806]]\n"
     ]
    }
   ],
   "source": [
    "# les 10 premiers mots et derniers mots\n",
    "#print(cv.get_feature_names()[830:860])\n",
    "#print(cv.get_feature_names()[-10:-1])\n",
    "print (ListWord[0])"
   ]
  },
  {
   "cell_type": "code",
   "execution_count": 355,
   "metadata": {},
   "outputs": [
    {
     "name": "stdout",
     "output_type": "stream",
     "text": [
      "abbey\n",
      "['abbey', 'abdomen', 'abeg', 'abel', 'aberdeen', 'abi', 'ability', 'abiola', 'abj', 'able', 'abnormally', 'about', 'aboutas', 'above', 'abroad', 'absence', 'absolutely', 'absolutly', 'abstract', 'abt', 'abta', 'aburo', 'abuse', 'abusers', 'ac', 'academic', 'acc', 'accent', 'accenture', 'accept', 'access', 'accessible', 'accidant', 'accident', 'accidentally', 'accommodation', 'accommodationvouchers', 'accomodate', 'accomodations', 'accordin', 'accordingly', 'account', 'accounting', 'accounts', 'accumulation', 'achan', 'ache', 'achieve', 'acid', 'acknowledgement', 'acl03530150pm', 'acnt', 'aco', 'across', 'act', 'acted', 'actin', 'acting', 'action', 'activ8', 'activate', 'active', 'activities', 'actor', 'actual', 'actually', 'ad', 'adam', 'add', 'addamsfa', 'added', 'addicted', 'addie', 'adding', 'address', 'adds', 'adewale', 'adi', 'adjustable', 'admin', 'administrator', 'admirer', 'admission', 'admit', 'adore', 'adoring', 'adp', 'adress', 'adrian', 'adrink', 'ads', 'adsense', 'adult', 'adults', 'advance', 'adventure', 'adventuring', 'advice', 'advise', 'advising', 'advisors', 'aeronautics', 'aeroplane', 'afew', 'affair', 'affairs', 'affection', 'affectionate', 'affections', 'affidavit', 'afford', 'afghanistan', 'afraid', 'africa', 'african', 'aft', 'after', 'afternon', 'afternoon', 'afternoons', 'afterwards', 'aftr', 'ag', 'again', 'against', 'agalla', 'age', 'age16', 'age23', 'agency', 'agent', 'agents', 'ages', 'agidhane', 'aging', 'ago', 'agree', 'ah', 'aha', 'ahead', 'ahhh', 'ahhhh', 'ahmad', 'ahold', 'aid', 'aids', 'aig', 'aight', 'ain', 'aint', 'air', 'air1', 'airport', 'airtel', 'aiya', 'aiyah', 'aiyar', 'aiyo', 'ajith', 'ak', 'aka', 'akon', 'al', 'alaikkum', 'alaipayuthe', 'albi', 'album', 'alcohol', 'aldrine', 'alert', 'alertfrom', 'alerts', 'aletter', 'alex', 'alfie', 'algarve', 'algebra', 'algorithms', 'ali', 'alian', 'alibi', 'alive', 'all', 'allah', 'allalo', 'allday', 'alle', 'allo', 'allow', 'allowed', 'allows', 'almost', 'alone', 'along', 'alot', 'already', 'alright', 'alrite', 'also', 'alter', 'alternative', 'although', 'alto18', 'aluable', 'alwa', 'always', 'alwys', 'am', 'amanda', 'amazing', 'ambitious', 'ambrith', 'american', 'ami', 'amigos', 'amk', 'amla', 'amma', 'ammae', 'ammo', 'amnow', 'among', 'amongst', 'amore', 'amount', 'amp', 'amplikater', 'amrca', 'amrita', 'ams', 'amt', 'amused', 'amy', 'an', 'ana', 'anal', 'analysis', 'anand', 'and', 'anderson', 'andre', 'andres', 'andrews', 'andros', 'angels', 'angry', 'animal', 'animation', 'anjie', 'anjola', 'anna', 'annie', 'anniversary', 'annoncement', 'announced', 'announcement', 'annoyin', 'annoying', 'anonymous', 'anot', 'another', 'ans', 'ansr', 'answer', 'answered', 'answerin', 'answering', 'answers', 'answr', 'antelope', 'antha', 'anthony', 'anti', 'antibiotic', 'any', 'anybody', 'anyhow', 'anymore', 'anyone', 'anyones', 'anyplaces', 'anythiing', 'anythin', 'anything', 'anythingtomorrow', 'anytime', 'anyway', 'anyways', 'anywhere', 'aom', 'apart', 'apartment', 'apes', 'apeshit', 'aphex', 'apnt', 'apo', 'apologetic', 'apologise', 'apologize', 'apology', 'app', 'apparently', 'appeal', 'appear', 'appendix', 'applausestore', 'applebees', 'apples', 'application', 'apply', 'applyed', 'applying', 'appointment', 'appointments', 'appreciate', 'appreciated', 'approaches', 'approaching', 'appropriate', 'approve', 'approved', 'approx', 'apps', 'appt', 'appy', 'april', 'aproach', 'apt', 'aptitude', 'aquarius', 'ar', 'arab', 'arabian', 'arcade', 'archive', 'ard', 'are', 'area', 'aren', 'arent', 'arestaurant', 'aretaking', 'areyouunique', 'argentina', 'argh', 'argue', 'arguing', 'argument', 'arguments', 'aries', 'arise', 'arises', 'arithmetic', 'arm', 'armand', 'armenia', 'arms', 'arng', 'arngd', 'arnt', 'around', 'aroundn', 'arr', 'arrange', 'arranging', 'arrested', 'arrival', 'arrive', 'arrived', 'arrow', 'arsenal', 'art', 'artists', 'arts', 'arty', 'arul', 'arun', 'as', 'asa', 'asap', 'asda', 'ashes', 'ashley', 'ashwini', 'asia', 'asian', 'asjesus', 'ask', 'askd', 'asked', 'askin', 'asking', 'asks', 'aslamalaikkum', 'asleep', 'asp', 'aspects', 'ass', 'assessment', 'asshole', 'assistance', 'associate', 'asssssholeeee', 'assume', 'assumed', 'asthere', 'asthma', 'astne', 'astoundingly', 'astrology', 'astronomer', 'asus', 'asusual', 'at', 'ate', 'athletic', 'athome', 'atlanta', 'atlast', 'atleast', 'atm', 'atrocious', 'attach', 'attached', 'attack', 'attempt', 'atten', 'attend', 'attended', 'attending', 'attention', 'attitude', 'attraction', 'attractive', 'attracts', 'attributed', 'atural', 'auction', 'audiitions', 'audition', 'audrey', 'audrie', 'august', 'aunt', 'auntie', 'aunties', 'aunts', 'aunty', 'aust', 'australia', 'authorise', 'auto', 'autocorrect', 'av', 'ava', 'availa', 'available', 'avalarr', 'avatar', 'avble', 'ave', 'avenge', 'avent', 'avenue', 'avin', 'avo', 'avoid', 'avoiding', 'avoids', 'await', 'awaiting', 'awake', 'award', 'awarded', 'away', 'awesome', 'awkward', 'aww', 'awww', 'ax', 'axel', 'axis', 'ay', 'ayn', 'ayo', 'b4', 'b4190604', 'b4280703', 'b4u', 'b4utele', 'ba', 'ba128nnfwfly150ppm', 'baaaaaaaabe', 'baaaaabe', 'babe', 'babes', 'babies', 'baby', 'babygoodbye', 'babyjontet', 'babysit', 'babysitting', 'bac', 'back', 'backdoor', 'backwards', 'bad', 'badass', 'badly', 'badrith', 'bag', 'bags', 'bahamas', 'baig', 'bailiff', 'bajarangabali', 'bak', 'bakra', 'bakrid', 'balance', 'ball', 'baller', 'balloon', 'balls', 'bam', 'bambling', 'band', 'bandages', 'bang', 'bangb', 'bangbabes', 'bani', 'bank', 'banks', 'banned', 'banneduk', 'banter', 'bao', 'bar', 'barbie', 'barcelona', 'bare', 'barely', 'bari', 'barkleys', 'barmed', 'barolla', 'barred', 'barrel', 'barring', 'barry', 'bars', 'base', 'based', 'bash', 'basic', 'basically', 'basket', 'basketball', 'basq', 'bat', 'batch', 'batchlor', 'bath', 'bathe', 'bathing', 'bathroom', 'batsman', 'batt', 'battery', 'battle', 'bawling', 'bay', 'bb', 'bbc', 'bbd', 'bbdeluxe', 'bbq', 'bc', 'bcaz', 'bck', 'bcm', 'bcm1896wc1n3xx', 'bcm4284', 'bcmsfwc1n3xx', 'bcoz', 'bcs', 'bcum', 'bcums', 'bcz', 'bday', 'be', 'beach', 'beads', 'bear', 'bears', 'beatings', 'beauties', 'beautiful', 'beauty', 'bec', 'becaus', 'because', 'becausethey', 'become', 'becomes', 'becoz', 'becz', 'bed', 'bedbut', 'bedreal', 'bedrm', 'bedroom', 'beeen', 'beehoon', 'been', 'beendropping', 'beer', 'beerage', 'beers', 'befor', 'before', 'beforehand', 'beg', 'beggar', 'begging', 'begin', 'begins', 'begun', 'behalf', 'behave', 'behind', 'bein', 'being', 'believe', 'belive', 'bell', 'bellearlier', 'belligerent', 'belly', 'belong', 'belongs', 'belovd', 'beloved', 'belt', 'ben', 'bend', 'beneath', 'beneficiary', 'benefits', 'bennys', 'bergkamp', 'beside', 'best', 'best1', 'bet', 'beta', 'beth', 'betta', 'better', 'bettersn', 'bettr', 'between', 'beverage', 'bevies', 'beware', 'beyond', 'bf', 'bffs', 'bfore', 'bhaji', 'bhaskar', 'bhayandar', 'bian', 'biatch', 'bid', 'bids', 'big', 'bigger', 'biggest', 'bike', 'bill', 'billed', 'billing', 'billion', 'bills', 'billy', 'bilo', 'bimbo', 'bin', 'biola', 'bird', 'birds', 'birla', 'biro', 'birth', 'birthdate', 'birthday', 'bishan', 'bit', 'bitch', 'bitching', 'bite', 'bites', 'bits', 'biz', 'bk', 'black', 'blackberry', 'blacko', 'blah', 'blake', 'blame', 'blank', 'blanked', 'blanket', 'blankets', 'blastin', 'bleak', 'bleh', 'bless', 'blessed', 'blessing', 'blessings', 'blimey', 'blind', 'block', 'blocked', 'blog', 'blogging', 'blogspot', 'bloke', 'blokes', 'blonde', 'bloo', 'blood', 'bloody', 'bloomberg', 'blow', 'blowing', 'blown', 'blu', 'blue', 'bluetooth', 'bluetoothhdset', 'bluff', 'blur', 'bluray', 'bmw', 'board', 'boat', 'boatin', 'bob', 'body', 'boggy', 'bognor', 'bold', 'bold2', 'bollox', 'boltblue', 'bomb', 'bone', 'bong', 'bonus', 'boo', 'boobs', 'book', 'booked', 'bookedthe', 'booking', 'bookmark', 'books', 'bookshelf', 'boooo', 'boost', 'booty', 'bootydelious', 'borderline', 'bored', 'borin', 'boring', 'born', 'borrow', 'boss', 'boston', 'bot', 'both', 'bother', 'bothering', 'bottle', 'bottom', 'bought', 'boundaries', 'bout', 'bowa', 'bowl', 'bowls', 'box', 'box1146', 'box139', 'box177', 'box245c2150pm', 'box326', 'box334', 'box334sk38ch', 'box385', 'box39822', 'box403', 'box420', 'box42wr29c', 'box434sk38wp150ppm18', 'box61', 'box95qu', 'box97n7qp', 'boy', 'boye', 'boyf', 'boyfriend', 'boys', 'boytoy', 'bpo', 'brah', 'brain', 'braindance', 'brainless', 'brains', 'brainy', 'brand', 'brandy', 'bras', 'brats', 'braved', 'bray', 'brb', 'brdget', 'bread', 'breadstick', 'break', 'breaker', 'breakfast', 'breakin', 'breaking', 'breaks', 'breath', 'breathe', 'breathe1', 'breather', 'breathing', 'breeze', 'breezy', 'bribe', 'bridal', 'bridge', 'bridgwater', 'brief', 'bright', 'brighten', 'brilliant', 'brilliantly', 'brin', 'bring', 'bringing', 'brings', 'brisk', 'brison', 'bristol', 'british', 'britney', 'bro', 'broad', 'broadband', 'broke', 'broken', 'brolly', 'bros', 'broth', 'brothas', 'brother', 'brothers', 'brought', 'brown', 'brownie', 'brownies', 'browse', 'browser', 'browsin', 'bruce', 'brum', 'bruv', 'bslvyl', 'bsn', 'bsnl', 'bstfrnd', 'bt', 'bthere', 'btw', 'btwn', 'bubbletext', 'bucks', 'bud', 'buddy', 'buddys', 'budget', 'buen', 'buff', 'buffet', 'buffy', 'bugis', 'build', 'building', 'built', 'bulbs', 'bull', 'bullshit', 'bunch', 'bundle', 'bunkers', 'buns', 'burden', 'burger', 'burgundy', 'burial', 'burn', 'burning', 'burns', 'burnt', 'burrito', 'bus', 'bus8', 'buses', 'busetop', 'business', 'busty', 'busy', 'but', 'butt', 'buttheres', 'butting', 'buttons', 'buy', 'buyer', 'buyers', 'buying', 'buz', 'buzy', 'buzz', 'buzzzz', 'bw', 'bx', 'bx420', 'bx526', 'by', 'byatch', 'bye', 'c52', 'cab', 'cabin', 'cable', 'cafe', 'cage', 'cake', 'cakes', 'cal', 'calculated', 'calculation', 'cali', 'calicut', 'california', 'call', 'call09050000327', 'call2optout', 'callback', 'callcost', 'callcost150ppmmobilesvary', 'calld', 'called', 'caller', 'callers', 'callertune', 'callfreefone', 'callin', 'calling', 'callon', 'calls', 'calls1', 'calm', 'cam', 'camcorder', 'came', 'camera', 'camp', 'campus', 'camry', 'can', 'canada', 'canal', 'canary', 'cancel', 'canceled', 'cancelled', 'cancer', 'canlove', 'cann', 'canname', 'cannot', 'cant', 'cantdo', 'canteen', 'capacity', 'capital', 'cappuccino', 'caps', 'captain', 'captaining', 'car', 'card', 'cardiff', 'cardin', 'cards', 'care', 'careabout', 'cared', 'career', 'careers', 'careful', 'carefully', 'careless', 'cares', 'caring', 'carlie', 'carlin', 'carlos', 'carly', 'carolina', 'caroline', 'carpark', 'carry', 'carryin', 'cars', 'cartons', 'cartoon', 'case', 'cash', 'cashbin', 'cashed', 'cashto', 'casing', 'cast', 'casting', 'castor', 'casualty', 'cat', 'catch', 'catches', 'catching', 'categories', 'caught', 'cause', 'causes', 'causing', 'cave', 'caveboy', 'cbe', 'cc', 'cc100p', 'ccna', 'cd', 'cdgt', 'cds', 'cedar', 'ceiling', 'celeb', 'celebrate', 'celebrated', 'celebration', 'celebrations', 'cell', 'census', 'center', 'centre', 'century', 'cer', 'cereals', 'ceri', 'certainly', 'certificate', 'cha', 'chachi', 'chad', 'chain', 'challenge', 'challenging', 'champ', 'champlaxigating', 'champneys', 'chance', 'chances', 'change', 'changed', 'changes', 'changing', 'channel', 'chapel', 'chaps', 'chapter', 'character', 'characters', 'charge', 'charged', 'charges', 'charity', 'charles', 'charlie', 'charming', 'chart', 'charts', 'chase', 'chasing', 'chastity', 'chat', 'chat80155', 'chatlines', 'chatter', 'chatting', 'cheap', 'cheaper', 'cheat', 'cheating', 'chechi', 'check', 'checkboxes', 'checked', 'checkin', 'checking', 'checkmate', 'checkup', 'cheek', 'cheer', 'cheered', 'cheers', 'cheery', 'cheese', 'cheesy', 'cheetos', 'chef', 'chennai', 'cheque', 'cherish', 'cherthala', 'chess', 'chest', 'chex', 'cheyyamo', 'chez', 'chg', 'chgs', 'chic', 'chick', 'chicken', 'chickened', 'chief', 'chik', 'chikku', 'child', 'childish', 'childporn', 'children', 'childrens', 'chile', 'chill', 'chillaxin', 'chillin', 'china', 'chinatown', 'chinchillas', 'chinese', 'chinky', 'chinnu', 'chiong', 'chip', 'chit', 'chk', 'chloe', 'chocolate', 'choice', 'choices', 'choose', 'choosing', 'chop', 'chords', 'chores', 'chosen', 'chrgd', 'christ', 'christians', 'christmas', 'christmassy', 'chuck', 'chuckin', 'church', 'ciao', 'cine', 'cinema', 'citizen', 'city', 'citylink', 'cl', 'claim', 'claimcode', 'claims', 'claire', 'clarification', 'clarify', 'clark', 'clas', 'clash', 'class', 'classes', 'classic', 'classmates', 'claypot', 'cld', 'clean', 'cleaning', 'clear', 'cleared', 'clearer', 'clearing', 'clearly', 'clever', 'click', 'cliff', 'cliffs', 'clip', 'clock', 'clocks', 'clos1', 'close', 'closeby', 'closed', 'closer', 'closes', 'closingdate04', 'cloth', 'clothes', 'cloud', 'clover', 'club', 'club4', 'club4mobiles', 'clubmoby', 'clubsaisai', 'clubzed', 'clue', 'cm', 'cm2', 'cme', 'cmon', 'cn', 'cnl', 'cnn', 'cnupdates', 'co', 'coach', 'coast', 'coat', 'coaxing', 'coca', 'coccooning', 'cochin', 'cock', 'cocksuckers', 'coco', 'code', 'coffee', 'coherently', 'coimbatore', 'coin', 'coincidence', 'coins', 'cola', 'colany', 'cold', 'colin', 'collages', 'collapsed', 'colleagues', 'collect', 'collected', 'collecting', 'collection', 'colleg', 'college', 'color', 'colour', 'colourful', 'colours', 'com', 'com1win150ppmx3age16', 'com1win150ppmx3age16subscription', 'comb', 'combination', 'combine', 'come', 'comedy', 'comes', 'comfey', 'comfort', 'comin', 'coming', 'comingdown', 'command', 'comment', 'commercial', 'commit', 'common', 'community', 'como', 'comp', 'companies', 'companion', 'company', 'compare', 'compass', 'compensation', 'competition', 'complacent', 'complain', 'complaining', 'complaint', 'complementary', 'complete', 'completed', 'completely', 'completes', 'completing', 'complexities', 'complimentary', 'compliments', 'comprehensive', 'compromised', 'compulsory', 'computational', 'computer', 'computerless', 'computers', 'comuk', 'conacted', 'concentrate', 'concentrating', 'concentration', 'concern', 'concerned', 'concert', 'conclusion', 'condition', 'conditions', 'conducts', 'conected', 'conference', 'confidence', 'configure', 'confirm', 'confirmd', 'confirmed', 'conform', 'confused', 'confuses', 'congrats', 'congratulation', 'congratulations', 'connect', 'connected', 'connection', 'connections', 'cons', 'consensus', 'consent', 'conserve', 'consider', 'considering', 'consistently', 'console', 'constant', 'constantly', 'contact', 'contacted', 'contacts', 'contains', 'content', 'contented', 'contention', 'contents', 'continent', 'continue', 'continued', 'contract', 'contribute', 'control', 'convenience', 'conversations', 'converted', 'converter', 'convey', 'conveying', 'convince', 'convinced', 'convincing', 'cook', 'cooked', 'cookies', 'cooking', 'cool', 'cooped', 'cooperative', 'copied', 'copies', 'coping', 'cops', 'copy', 'corect', 'cornwall', 'corporation', 'corrct', 'correct', 'correction', 'correctly', 'corrupt', 'corvettes', 'cos', 'cosign', 'cost', 'costa', 'costing', 'costs', 'costume', 'costumes', 'couch', 'cougar', 'cough', 'coughing', 'could', 'coulda', 'couldn', 'count', 'countin', 'countinlots', 'country', 'counts', 'coupla', 'couple', 'courage', 'courageous', 'course', 'court', 'courtroom', 'cousin', 'cover', 'coveragd', 'covers', 'coz', 'cozy', 'cps', 'cr', 'cr01327bt', 'cr9', 'crab', 'crack', 'craigslist', 'crammed', 'cramps', 'crap', 'crash', 'crashed', 'crashing', 'crave', 'craving', 'craziest', 'crazy', 'crazyin', 'crckt', 'cream', 'created', 'creative', 'creativity', 'credit', 'credited', 'credits', 'creep', 'creepy', 'cres', 'cribbs', 'cricket', 'cricketer', 'crickiting', 'cried', 'crisis', 'cro1327', 'crore', 'cross', 'crossing', 'crowd', 'croydon', 'crucial', 'crucify', 'cruel', 'cruise', 'cruisin', 'crushes', 'cry', 'crying', 'cs', 'csbcm4235wc1n3xx', 'csc', 'csh11', 'cst', 'cstore', 'ctagg', 'ctargg', 'cthen', 'ctla', 'cts', 'cttargg', 'ctter', 'cttergg', 'ctxt', 'cu', 'cuck', 'cud', 'cuddle', 'cuddled', 'cuddling', 'cudnt', 'culdnt', 'cultures', 'cum', 'cumin', 'cumming', 'cup', 'cupboard', 'cuppa', 'curfew', 'curious', 'current', 'currently', 'curry', 'curtsey', 'cusoon', 'cust', 'custcare', 'custom', 'customer', 'customercare', 'customers', 'customersqueries', 'cut', 'cute', 'cutefrnd', 'cutest', 'cutie', 'cutter', 'cutting', 'cuz', 'cw25wx', 'cya', 'cyclists', 'cysts', 'd3wv', 'da', 'daaaaa', 'dabbles', 'dabooks', 'dad', 'daddy', 'dads', 'dai', 'daily', 'dammit', 'damn', 'dan', 'dancce', 'dance', 'dancin', 'dancing', 'dane', 'dang', 'danger', 'dangerous', 'dao', 'dare', 'dark', 'darker', 'darkest', 'darkness', 'darlin', 'darling', 'darlings', 'darren', 'dartboard', 'das', 'dasara', 'dat', 'data', 'date', 'datebox1282essexcm61xn', 'dates', 'dating', 'dats', 'datz', 'dave', 'dawns', 'day', 'days', 'daytime', 'daywith', 'db', 'dbuk', 'dd', 'de', 'dead', 'deal', 'dealer', 'dealing', 'deals', 'dear', 'dear1', 'dearer', 'dearly', 'death', 'debating', 'dec', 'decades', 'december', 'decent', 'decide', 'decided', 'deciding', 'decimal', 'decision', 'decisions', 'deck', 'decking', 'declare', 'decorating', 'dedicate', 'dedicated', 'deduct', 'deep', 'deepak', 'deepest', 'deer', 'deeraj', 'def', 'defeat', 'defer', 'deficient', 'definite', 'definitely', 'definitly', 'defo', 'degree', 'degrees', 'dehydrated', 'dehydration', 'del', 'delay', 'delayed', 'delete', 'deleted', 'delhi', 'delicious', 'deliver', 'delivered', 'deliveredtomorrow', 'delivery', 'deltomorrow', 'deluxe', 'dem', 'demand', 'den', 'dena', 'dengra', 'denis', 'dent', 'dental', 'dentist', 'dentists', 'deny', 'denying', 'department', 'dependable', 'dependents', 'depends', 'deposit', 'deposited', 'depressed', 'depression', 'dept', 'der', 'derek', 'derp', 'describe', 'description', 'desert', 'deserve', 'designation', 'desires', 'desk', 'desparate', 'desparately', 'desperate', 'despite', 'dessert', 'destination', 'destiny', 'detail', 'detailed', 'details', 'determine', 'determined', 'detroit', 'deus', 'develop', 'developed', 'developer', 'device', 'devils', 'deviousbitch', 'devouring', 'dey', 'dha', 'dhanush', 'dhina', 'dhoni', 'dhorte', 'di', 'dial', 'dialling', 'dialogue', 'diamond', 'diamonds', 'diapers', 'dice', 'dick', 'dict', 'dictionary', 'did', 'diddy', 'didn', 'didnt', 'didntgive', 'die', 'died', 'diesel', 'diet', 'dieting', 'diff', 'differ', 'difference', 'differences', 'different', 'difficult', 'difficulties', 'dificult', 'digi', 'digital', 'digits', 'dignity', 'dileep', 'dime', 'dimension', 'din', 'dine', 'dined', 'dinero', 'ding', 'dining', 'dinner', 'dino', 'dint', 'dip', 'dippeditinadew', 'direct', 'directly', 'director', 'directors', 'dirt', 'dirtiest', 'dirty', 'dis', 'disagreeable', 'disappeared', 'disappointment', 'disaster', 'disasters', 'disastrous', 'disc', 'disclose', 'disconnect', 'disconnected', 'discount', 'discreet', 'discuss', 'discussed', 'diseases', 'disk', 'dislikes', 'dismay', 'dismissial', 'display', 'distance', 'distract', 'disturb', 'disturbance', 'disturbing', 'ditto', 'divert', 'division', 'divorce', 'diwali', 'dizzamn', 'dizzee', 'dl', 'dled', 'dlf', 'dload', 'dnot', 'dnt', 'do', 'dob', 'dobby', 'doc', 'dock', 'docks', 'docs', 'doctor', 'doctors', 'documents', 'dodda', 'dodgey', 'does', 'doesdiscount', 'doesn', 'doesnt', 'dog', 'dogbreath', 'dogg', 'doggin', 'dogging', 'doggy', 'dogs', 'dogwood', 'doin', 'doinat', 'doing', 'doit', 'doke', 'dokey', 'doll', 'dollar', 'dollars', 'dolls', 'dom', 'domain', 'don', 'donate', 'done', 'donno', 'dont', 'dontcha', 'dontignore', 'dontmatter', 'dontplease', 'donyt', 'dooms', 'door', 'doors', 'dorm', 'dormitory', 'dorothy', 'dose', 'dosomething', 'dot', 'double', 'doublemins', 'doubles', 'doubletxt', 'doubt', 'doug', 'dough', 'down', 'download', 'downloaded', 'downloads', 'downon', 'downs', 'downstem', 'dozens', 'dps', 'dr', 'dracula', 'drama', 'dramastorm', 'dramatic', 'drastic', 'draw', 'draws', 'dreading', 'dream', 'dreams', 'dreamz', 'dress', 'dressed', 'dresser', 'drink', 'drinkin', 'drinking', 'drinks', 'drivby', 'drive', 'driver', 'drivin', 'driving', 'drizzling', 'drms', 'drop', 'dropped', 'drops', 'drove', 'drpd', 'drug', 'drugdealer', 'drugs', 'drum', 'drunk', 'drunkard', 'drunken', 'drvgsto', 'dry', 'dryer', 'dsn', 'dt', 'dual', 'dub', 'dubsack', 'duchess', 'ducking', 'dude', 'dudes', 'dudette', 'due', 'duffer', 'dull', 'dumb', 'dump', 'dun', 'dungerees', 'dunno', 'duo', 'durban', 'durham', 'during', 'dusk', 'dust', 'duvet', 'dvd', 'dvg', 'dwn', 'dying', 'dysentry', 'e14', 'each', 'eachother', 'ear', 'earlier', 'earliest', 'early', 'earn', 'earning', 'ears', 'earth', 'easier', 'easiest', 'easily', 'east', 'eastenders', 'easter', 'easy', 'eat', 'eaten', 'eatin', 'eating', 'ebay', 'ec2a', 'echo', 'eckankar', 'ecstacy', 'ecstasy', 'ed', 'edge', 'edhae', 'edison', 'edition', 'edrunk', 'edu', 'education', 'educational', 'edukkukayee', 'edward', 'edwards', 'ee', 'eek', 'eerie', 'eerulli', 'effect', 'effects', 'efficient', 'efreefone', 'eg', 'egbon', 'egg', 'eggs', 'ego', 'eh', 'eh74rr', 'eight', 'eighth', 'eightish', 'eire', 'either', 'el', 'ela', 'elaborate', 'elaborating', 'elaine', 'elama', 'elaya', 'eldest', 'election', 'elections', 'electricity', 'elephant', 'eleven', 'elliot', 'ello', 'else', 'elsewhere', 'elvis', 'em', 'email', 'emailed', 'embarassed', 'embarassing', 'embarrassed', 'embassy', 'emc1', 'emergency', 'emerging', 'emigrated', 'emily', 'emotion', 'employee', 'employer', 'empty', 'en', 'enc', 'end', 'ended', 'ending', 'endless', 'endof', 'endowed', 'ends', 'enemies', 'enemy', 'energy', 'eng', 'engaged', 'engagement', 'engalnd', 'engin', 'england', 'english', 'enjoy', 'enjoyed', 'enjoyin', 'enjoying', 'enketa', 'enna', 'ennal', 'enough', 'ente', 'enter', 'entered', 'enters', 'entertain', 'entertaining', 'entey', 'entire', 'entirely', 'entitled', 'entrepreneurs', 'entropication', 'entry', 'entry41', 'enufcredeit', 'enuff', 'envelope', 'environment', 'envy', 'epi', 'eppolum', 'epsilon', 'equally', 'er', 'ere', 'ericson', 'ericsson', 'erm', 'erode', 'erotic', 'err', 'error', 'errors', 'ertini', 'eruku', 'erupt', 'erutupalam', 'esaplanade', 'escalator', 'escape', 'ese', 'eshxxxxxxxxxxx', 'espe', 'especially', 'esplanade', 'essay', 'essential', 'establish', 'eta', 'etc', 'ethnicity', 'etlp', 'ettans', 'euro', 'euro2004', 'eurodisinc', 'europe', 'evaluation', 'evaporated', 'eve', 'eveb', 'even', 'evening', 'evenings', 'event', 'events', 'eventually', 'ever', 'every', 'every1', 'everybody', 'everyboy', 'everyday', 'everyone', 'everyones', 'everyso', 'everythin', 'everything', 'everytime', 'everywhere', 'evey', 'eviction', 'evil', 'evn', 'evng', 'evo', 'evone', 'evr', 'evrey', 'evry', 'evry1', 'evrydy', 'ew', 'ex', 'exact', 'exactly', 'exam', 'exams', 'excellent', 'except', 'exchanged', 'excited', 'exciting', 'excuse', 'excused', 'excuses', 'exe', 'executive', 'exercise', 'exeter', 'exhaust', 'exhausted', 'exhibition', 'exist', 'exmpel', 'exorcism', 'exorcist', 'exp', 'expect', 'expected', 'expecting', 'expects', 'expensive', 'experience', 'experiencehttp', 'experiment', 'expert', 'expired', 'expires', 'expiry', 'explain', 'explicit', 'explicitly', 'explosive', 'exposed', 'exposes', 'express', 'expression', 'expressoffer', 'ext', 'exterminator', 'extra', 'extract', 'extreme', 'ey', 'eye', 'eyed', 'eyes', 'f4q', 'fa', 'fab', 'faber', 'face', 'facebook', 'facilities', 'fact', 'factory', 'facts', 'faded', 'faggot', 'faggy', 'faglord', 'failed', 'failing', 'fails', 'failure', 'fainting', 'fair', 'faith', 'fake', 'fakeye', 'fal', 'falconerf', 'fall', 'fallen', 'falling', 'falls', 'fals', 'famamus', 'familiar', 'family', 'famous', 'fan', 'fancied', 'fancies', 'fancy', 'fans', 'fantasies', 'fantastic', 'fantasy', 'far', 'farm', 'farrell', 'farting', 'fassyole', 'fast', 'faster', 'fastest', 'fat', 'fated', 'father', 'fathima', 'fats', 'fatty', 'fault', 'fav', 'fave', 'favor', 'favorite', 'favour', 'favourite', 'fb', 'fear', 'feathery', 'features', 'feb', 'february', 'fed', 'fedex', 'feed', 'feel', 'feelin', 'feeling', 'feelingood', 'feellikw', 'feels', 'fees', 'feet', 'fell', 'fellow', 'felt', 'female', 'feng', 'festival', 'fetch', 'fetching', 'fever', 'few', 'ffectionate', 'fffff', 'ffffffffff', 'ffffuuuuuuu', 'fgkslpo', 'fgkslpopw', 'fidalfication', 'field', 'fieldof', 'fiend', 'fifa', 'fifteen', 'fifth', 'fifty', 'fight', 'fighting', 'fightng', 'fights', 'figure', 'figures', 'figuring', 'file', 'files', 'fill', 'filled', 'filling', 'fills', 'film', 'films', 'filth', 'filthy', 'filthyguys', 'final', 'finalise', 'finally', 'finance', 'financial', 'find', 'finding', 'finds', 'fine', 'finest', 'fingers', 'finish', 'finishd', 'finished', 'finishes', 'finishing', 'fink', 'finn', 'fire', 'fired', 'firefox', 'fireplace', 'fires', 'firmware', 'firsg', 'first', 'fish', 'fishhead', 'fishrman', 'fit', 'fiting', 'five', 'fix', 'fixd', 'fixed', 'fixedline', 'fixes', 'fizz', 'flag', 'flaked', 'flaky', 'flame', 'flash', 'flat', 'flatter', 'flavour', 'flea', 'fletcher', 'flew', 'flies', 'flight', 'flights', 'flim', 'flip', 'flippin', 'flirt', 'flirting', 'flirtparty', 'floating', 'flood', 'floor', 'floppy', 'florida', 'flow', 'flower', 'flowers', 'flowing', 'fluids', 'flung', 'flurries', 'flute', 'fly', 'flying', 'flyng', 'fm', 'fml', 'fne', 'fo', 'fold', 'foley', 'folks', 'follow', 'followed', 'followin', 'following', 'follows', 'fond', 'fondly', 'fone', 'foned', 'fones', 'fonin', 'food', 'fool', 'fooled', 'fools', 'foot', 'football', 'footbl', 'footie', 'footprints', 'footy', 'for', 'force', 'forced', 'foregate', 'foreign', 'forever', 'forevr', 'forfeit', 'forget', 'forgets', 'forgive', 'forgiven', 'forgiveness', 'forgot', 'forgotten', 'forgt', 'form', 'formal', 'formally', 'format', 'formatting', 'forms', 'forth', 'fortune', 'forum', 'forums', 'forward', 'forwarded', 'forwarding', 'found', 'foundurself', 'four', 'fourth', 'foward', 'fowler', 'fox', 'fps', 'fr', 'fraction', 'fran', 'frank', 'frankie', 'franxx', 'franyxxxxx', 'frauds', 'freak', 'freaked', 'freaking', 'freaky', 'fredericksburg', 'free', 'free2day', 'freedom', 'freeentry', 'freefone', 'freek', 'freely', 'freemsg', 'freephone', 'freezing', 'freinds', 'fren', 'french', 'frens', 'frequently', 'fresh', 'freshers', 'fret', 'fri', 'friday', 'fridays', 'fridge', 'fried', 'friend', 'friends', 'friendsare', 'friendship', 'friendships', 'fring', 'fringe', 'frm', 'frmcloud', 'frnd', 'frnds', 'frndship', 'frndshp', 'frndsship', 'frndz', 'frnt', 'fro', 'frog', 'from', 'fromm', 'fromwrk', 'front', 'frontierville', 'frosty', 'fruit', 'frwd', 'frying', 'ft', 'fuck', 'fucked', 'fuckin', 'fucking', 'fuckinnice', 'fucks', 'fudge', 'fuelled', 'fujitsu', 'ful', 'fulfil', 'full', 'fullonsms', 'fumbling', 'fun', 'function', 'functions', 'fund', 'fundamentals', 'funeral', 'funk', 'funky', 'funny', 'funs', 'furniture', 'further', 'fusion', 'future', 'fuuuuck', 'fwiw', 'fyi', 'g2', 'g696ga', 'ga', 'gage', 'gail', 'gailxx', 'gain', 'gained', 'gal', 'galileo', 'gals', 'gam', 'gamb', 'game', 'games', 'gamestar', 'gandhipuram', 'ganesh', 'gang', 'gap', 'gaps', 'garage', 'garbage', 'garden', 'gardener', 'gari', 'garments', 'gary', 'gas', 'gastroenteritis', 'gate', 'gauge', 'gautham', 'gauti', 'gave', 'gay', 'gayle', 'gays', 'gaytextbuddy', 'gaze', 'gbp', 'gbp1', 'gbp4', 'gbp5', 'gd', 'gdeve', 'ge', 'gee', 'geeee', 'geeeee', 'gei', 'gek1510', 'gender', 'general', 'generally', 'genes', 'genius', 'gent', 'gentle', 'gentleman', 'gently', 'genuine', 'genus', 'geoenvironmental', 'george', 'gep', 'ger', 'germany', 'get', 'get4an18th', 'getiing', 'geting', 'gets', 'getsleep', 'getstop', 'gettin', 'getting', 'getzed', 'gf', 'ghodbandar', 'ghost', 'gibbs', 'gibe', 'gift', 'gifted', 'gifts', 'giggle', 'gigolo', 'gimme', 'gimmi', 'gin', 'girl', 'girlfrnd', 'girlie', 'girls', 'gist', 'giv', 'give', 'given', 'gives', 'giving', 'glad', 'glands', 'glasgow', 'glass', 'glo', 'global', 'glorious', 'glory', 'gloucesterroad', 'gm', 'gmw', 'gn', 'gnarls', 'gnt', 'gnun', 'go', 'go2', 'go2sri', 'goal', 'goals', 'gobi', 'god', 'gods', 'goes', 'goggles', 'goigng', 'goin', 'goin2bed', 'going', 'gokila', 'gold', 'golddigger', 'golden', 'goldviking', 'golf', 'gon', 'gona', 'gone', 'gong', 'gonna', 'gonnamissu', 'good', 'goodevening', 'goodfriend', 'goodies', 'goodmate', 'goodmorning', 'goodnight', 'goodnite', 'goodnoon', 'goodo', 'goods', 'goodtime', 'google', 'gopalettan', 'gorgeous', 'gosh', 'goss', 'gossip', 'got', 'gota', 'gotany', 'gotbabes', 'gotmarried', 'goto', 'gotta', 'gotten', 'gotto', 'goverment', 'govt', 'gower', 'gprs', 'gpu', 'gr8', 'gr8fun', 'gr8prizes', 'grab', 'grace', 'graduated', 'grahmbell', 'gram', 'grams', 'gran', 'grand', 'grandfather', 'grandma', 'grandmas', 'granite', 'granted', 'graphics', 'grasp', 'grateful', 'grave', 'gravel', 'gravity', 'gravy', 'gray', 'grazed', 'gre', 'great', 'greatest', 'greatly', 'greatness', 'greece', 'green', 'greet', 'greeting', 'greetings', 'grief', 'grinder', 'grins', 'grinule', 'grl', 'grocers', 'grooved', 'groovy', 'groovying', 'ground', 'group', 'grow', 'growing', 'grown', 'grownup', 'grr', 'grumble', 'grumpy', 'gsex', 'gsoh', 'gt', 'gua', 'guai', 'guarantee', 'guaranteed', 'gucci', 'gud', 'gudni8', 'gudnite', 'gudnyt', 'guess', 'guessed', 'guesses', 'guessin', 'guessing', 'guidance', 'guide', 'guides', 'guild', 'guilty', 'guitar', 'gumby', 'guoyang', 'gurl', 'gut', 'guy', 'guys', 'gv', 'gving', 'gym', 'gymnastics', 'gynae', 'gyno', 'ha', 'habba', 'habit', 'hack', 'had', 'hadn', 'haf', 'haha', 'hahaha', 'hai', 'hail', 'hair', 'haircut', 'hairdressers', 'haiyoh', 'haiz', 'half', 'half8th', 'hall', 'halla', 'hallaq', 'halloween', 'ham', 'hamper', 'hamster', 'hand', 'handed', 'handing', 'handle', 'hands', 'handset', 'handsome', 'handsomes', 'hang', 'hanger', 'hangin', 'hanging', 'hanks', 'hannaford', 'hanuman', 'hanumanji', 'happen', 'happend', 'happened', 'happenin', 'happening', 'happens', 'happier', 'happiest', 'happily', 'happiness', 'happy', 'hard', 'hardcore', 'harder', 'hardest', 'hardly', 'hari', 'harish', 'harlem', 'harri', 'harry', 'has', 'hasbro', 'hasn', 'hasnt', 'hassling', 'hat', 'hate', 'hates', 'haughaighgtujhyguj', 'haul', 'haunt', 'hav', 'hav2hear', 'hava', 'havbeen', 'have', 'havebeen', 'haven', 'havent', 'haventcn', 'havin', 'having', 'havn', 'havnt', 'hcl', 'hdd', 'he', 'head', 'headache', 'headin', 'heading', 'heads', 'headset', 'headstart', 'heal', 'healer', 'healthy', 'heap', 'hear', 'heard', 'hearin', 'hearing', 'heart', 'hearted', 'hearts', 'heat', 'heater', 'heaven', 'heavily', 'heavy', 'hectic', 'hee', 'heehee', 'hehe', 'height', 'held', 'helen', 'helens', 'hell', 'hella', 'hello', 'hellogorgeous', 'helloooo', 'help', 'help08700621170150p', 'help08714742804', 'help08718728876', 'helpful', 'helping', 'helpline', 'helps', 'heltini', 'hen', 'hence', 'henry', 'hep', 'her', 'here', 'hero', 'heroes', 'heron', 'herself', 'hes', 'hesitant', 'hesitate', 'hesitation', 'hex', 'hey', 'hf8', 'hg', 'hhahhaahahah', 'hi', 'hidden', 'hide', 'hides', 'hiding', 'high', 'highest', 'hilarious', 'hill', 'hills', 'hillsborough', 'him', 'himself', 'himso', 'hint', 'hip', 'hiphop', 'hire', 'his', 'history', 'hit', 'hitler', 'hitman', 'hits', 'hitter', 'hittng', 'hiya', 'hl', 'hlday', 'hlp', 'hm', 'hme', 'hmm', 'hmmm', 'hmmmm', 'hmmross', 'hmph', 'hmv', 'hmv1', 'ho', 'hockey', 'hogidhe', 'hogli', 'hogolo', 'hol', 'holby', 'hold', 'holder', 'holding', 'hole', 'holiday', 'holla', 'hollalater', 'hols', 'holy', 'home', 'homeowners', 'hon', 'honest', 'honestly', 'honesty', 'honey', 'honeybee', 'honeymoon', 'honi', 'hont', 'hoo', 'hooch', 'hoody', 'hook', 'hooked', 'hoops', 'hop', 'hope', 'hoped', 'hopeful', 'hopefully', 'hopeing', 'hopes', 'hopeso', 'hopeu', 'hoping', 'hor', 'horniest', 'horny', 'horo', 'horrible', 'horse', 'hos', 'hospital', 'hospitals', 'host', 'hostel', 'hostile', 'hot', 'hotel', 'hotels', 'hotmail', 'hotmix', 'hottest', 'hour', 'hourish', 'hours', 'house', 'houseful', 'housewives', 'housework', 'housing', 'how', 'howard', 'howda', 'howdy', 'however', 'hows', 'howu', 'howz', 'hp', 'hp20', 'hppnss', 'hr', 'hrishi', 'hrs', 'hsbc', 'html', 'http', 'hu', 'huai', 'hubby', 'hudgi', 'hug', 'huge', 'hugging', 'hugh', 'hugs', 'huh', 'hui', 'huiming', 'hum', 'humanities', 'humans', 'hun', 'hundred', 'hundreds', 'hungover', 'hungry', 'hunks', 'hunny', 'hunt', 'hunting', 'hurricanes', 'hurried', 'hurry', 'hurt', 'hurting', 'hurts', 'husband', 'hussey', 'hustle', 'hut', 'hv', 'hv9d', 'hvae', 'hw', 'hyde', 'hype', 'hypertension', 'hypotheticalhuagauahahuagahyuhagga', 'iam', 'ias', 'ibh', 'ibhltd', 'ibiza', 'ibm', 'ibn', 'ibored', 'ibuprofens', 'ic', 'iccha', 'ice', 'icic', 'icicibank', 'icky', 'icmb3cktz8r7', 'icon', 'id', 'idc', 'idea', 'ideal', 'ideas', 'identification', 'identifier', 'idew', 'idiot', 'idk', 'idps', 'idu', 'ie', 'if', 'iff', 'ifink', 'ig11', 'ignorant', 'ignore', 'ignoring', 'ihave', 'ijust', 'ikea', 'ikno', 'iknow', 'il', 'ileave', 'ill', 'illness', 'illspeak', 'ilol', 'im', 'image', 'images', 'imagination', 'imagine', 'imat', 'imf', 'img', 'imin', 'imma', 'immed', 'immediately', 'immunisation', 'imp', 'impatient', 'impede', 'implications', 'important', 'importantly', 'imposed', 'impossible', 'imposter', 'impress', 'impressed', 'impression', 'impressively', 'improve', 'improved', 'imprtant', 'in', 'in2', 'inc', 'inch', 'inches', 'incident', 'inclu', 'include', 'includes', 'including', 'inclusive', 'incomm', 'inconsiderate', 'inconvenience', 'inconvenient', 'incorrect', 'increase', 'incredible', 'increments', 'inde', 'indeed', 'independence', 'independently', 'index', 'india', 'indian', 'indians', 'indicate', 'individual', 'indyarocks', 'inever', 'infact', 'infections', 'infernal', 'influx', 'info', 'inform', 'information', 'informed', 'infra', 'infront', 'ing', 'ingredients', 'initiate', 'ink', 'inlude', 'inmind', 'inner', 'innings', 'innocent', 'innu', 'inperialmusic', 'inpersonation', 'inr', 'insects', 'insha', 'inshah', 'inside', 'inspection', 'inst', 'install', 'installation', 'installing', 'instant', 'instantly', 'instead', 'instituitions', 'instructions', 'insurance', 'intelligent', 'intend', 'intention', 'intentions', 'interest', 'interested', 'interesting', 'interflora', 'interfued', 'internal', 'internet', 'interview', 'interviews', 'interviw', 'intha', 'into', 'intrepid', 'intro', 'intrude', 'invaders', 'invention', 'invest', 'investigate', 'invitation', 'invite', 'invited', 'inviting', 'invnted', 'invoices', 'involve', 'involved', 'iouri', 'ip', 'ip4', 'ipad', 'ipaditan', 'ipads', 'iphone', 'ipod', 'iq', 'iraq', 'irene', 'iriver', 'iron', 'ironing', 'irritated', 'irritates', 'irritating', 'irritation', 'irulinae', 'is', 'isaiah', 'iscoming', 'ish', 'ishtamayoo', 'island', 'islands', 'isn', 'isnt', 'issue', 'issues', 'isv', 'it', 'italian', 'itcould', 'items', 'iter', 'ithink', 'itna', 'itried2tell', 'its', 'itself', 'itwhichturnedinto', 'itxt', 'itz', 'ivatte', 'ive', 'iwana', 'iwas', 'iyo', 'iz', 'izzit', 'j5q', 'j89', 'jabo', 'jack', 'jacket', 'jackpot', 'jackson', 'jacuzzi', 'jada', 'jade', 'jaklin', 'jam', 'james', 'jamster', 'jamz', 'jan', 'janarige', 'jane', 'janinexx', 'january', 'janx', 'jap', 'japanese', 'jas', 'jason', 'java', 'jay', 'jaya', 'jaykwon', 'jaz', 'jazz', 'jb', 'jd', 'je', 'jealous', 'jeans', 'jeetey', 'jeevithathile', 'jelly', 'jen', 'jenne', 'jenny', 'jenxxx', 'jeremiah', 'jeri', 'jerk', 'jerry', 'jersey', 'jess', 'jesus', 'jet', 'jetton', 'jewelry', 'jez', 'ji', 'jia', 'jiayin', 'jide', 'jiu', 'jjc', 'jo', 'joanna', 'job', 'jobs', 'jobyet', 'jocks', 'jod', 'jog', 'jogging', 'john', 'join', 'joined', 'joining', 'joke', 'joker', 'jokes', 'jokin', 'joking', 'jolly', 'jolt', 'jon', 'jones', 'jontin', 'jordan', 'jorge', 'jos', 'jot', 'journey', 'joy', 'joys', 'jp', 'js', 'jsco', 'jst', 'jstfrnd', 'jsut', 'juan', 'judgemental', 'juicy', 'jul', 'jules', 'juliana', 'julianaland', 'july', 'jump', 'jumpers', 'june', 'jungle', 'junna', 'jurong', 'jus', 'just', 'justbeen', 'justfound', 'justify', 'justthought', 'juswoke', 'juz', 'k52', 'k61', 'k718', 'kaaj', 'kadeem', 'kaiez', 'kaila', 'kaitlyn', 'kalaachutaarama', 'kalainar', 'kalisidare', 'kallis', 'kalstiya', 'kama', 'kanagu', 'kane', 'kanji', 'kano', 'kappa', 'karaoke', 'karnan', 'karo', 'kate', 'katexxx', 'kath', 'kavalan', 'kay', 'kaypoh', 'kb', 'ke', 'keen', 'keep', 'keeping', 'keeps', 'kegger', 'keluviri', 'ken', 'kent', 'kept', 'kerala', 'keralacircle', 'keris', 'kettoda', 'key', 'keypad', 'keys', 'keyword', 'kfc', 'kg', 'khelate', 'ki', 'kicchu', 'kick', 'kickboxing', 'kickoff', 'kicks', 'kid', 'kidding', 'kids', 'kidz', 'kiefer', 'kill', 'killed', 'killing', 'kills', 'kilos', 'kind', 'kinda', 'kindly', 'king', 'kingdom', 'kintu', 'kiosk', 'kip', 'kisi', 'kiss', 'kisses', 'kissing', 'kit', 'kittum', 'kitty', 'kl341', 'knackered', 'knee', 'knees', 'knew', 'knickers', 'knock', 'knocking', 'know', 'knowing', 'known', 'knows', 'knw', 'ko', 'kochi', 'kodstini', 'kodthini', 'kolathupalayam', 'konw', 'korche', 'korean', 'korli', 'korte', 'kotees', 'kothi', 'kr', 'ktv', 'kuch', 'kudi', 'kusruthi', 'kvb', 'kz', 'l8', 'l8er', 'l8r', 'l8rs', 'l8tr', 'la', 'la1', 'la3', 'la32wu', 'lab', 'labor', 'lac', 'lacking', 'lacs', 'laden', 'ladies', 'lady', 'lag', 'lage', 'lager', 'laid', 'lakhs', 'lambda', 'lambu', 'lamp', 'lancaster', 'land', 'landing', 'landline', 'landlineonly', 'landlines', 'landmark', 'lands', 'lane', 'langport', 'language', 'lanka', 'lanre', 'lap', 'lapdancer', 'laptop', 'lar', 'lara', 'laready', 'large', 'largest', 'lark', 'lasagna', 'last', 'lastest', 'lasting', 'late', 'lately', 'latelyxxx', 'later', 'latest', 'latests', 'latr', 'laugh', 'laughed', 'laughing', 'laughs', 'laundry', 'laurie', 'lautech', 'lavender', 'law', 'laxinorficated', 'lay', 'layin', 'laying', 'lays', 'lazy', 'lccltd', 'ld', 'ldew', 'ldn', 'ldnw15h', 'le', 'lead', 'leadership', 'leading', 'leads', 'leaf', 'leafcutter', 'league', 'leanne', 'learn', 'learned', 'least', 'least5times', 'leave', 'leaves', 'leaving', 'lect', 'lecture', 'lecturer', 'left', 'leftovers', 'leg', 'legal', 'legitimat', 'legs', 'leh', 'lei', 'lekdog', 'lemme', 'length', 'lengths', 'lennon', 'leo', 'leona', 'leonardo', 'les', 'less', 'lesser', 'lesson', 'lessons', 'let', 'lets', 'letter', 'letters', 'level', 'lf56', 'li', 'liao', 'lib', 'libertines', 'library', 'lick', 'licks', 'lido', 'lie', 'lies', 'life', 'lifebook', 'lifeis', 'lifetime', 'lifpartnr', 'lift', 'lifted', 'lifting', 'light', 'lighters', 'lightly', 'lik', 'like', 'liked', 'likely', 'likes', 'likeyour', 'liking', 'lil', 'lily', 'lim', 'limit', 'limited', 'limiting', 'limits', 'limping', 'lindsay', 'line', 'linear', 'lined', 'linerental', 'lines', 'lingerie', 'lingo', 'link', 'links', 'linux', 'lion', 'lionm', 'lionp', 'lions', 'lip', 'lipo', 'lips', 'liquor', 'list', 'listed', 'listen', 'listened2the', 'listener', 'listening', 'listening2the', 'listn', 'lists', 'lit', 'literally', 'litres', 'little', 'live', 'lived', 'liver', 'liverpool', 'lives', 'living', 'lk', 'lkpobox177hp51fl', 'll', 'llc', 'llspeak', 'lmao', 'lnly', 'lo', 'load', 'loads', 'loan', 'loans', 'lobby', 'local', 'location', 'locations', 'locaxx', 'lock', 'locks', 'lodge', 'lodging', 'log', 'logged', 'logging', 'login', 'logo', 'logoff', 'logon', 'logos', 'loko', 'lol', 'lolnice', 'lololo', 'londn', 'london', 'loneliness', 'lonely', 'long', 'longer', 'lonlines', 'loo', 'look', 'lookatme', 'looked', 'lookin', 'looking', 'looks', 'lool', 'loooooool', 'looovvve', 'loose', 'loosing', 'loosu', 'lor', 'lord', 'lose', 'losers', 'loses', 'losing', 'loss', 'lost', 'lot', 'lotr', 'lots', 'lotsly', 'lotsof', 'lotta', 'lotto', 'lotz', 'lou', 'loud', 'lounge', 'lousy', 'lov', 'lovable', 'love', 'loved', 'lovejen', 'lovely', 'loveme', 'lover', 'loverboy', 'lovers', 'loves', 'lovin', 'loving', 'lovingly', 'lovly', 'low', 'lower', 'lowes', 'loxahatchee', 'loyal', 'loyalty', 'lrg', 'ls1', 'ls15hb', 'ls278bb', 'lst', 'lt', 'ltd', 'ltdhelpdesk', 'lttrs', 'lubly', 'luck', 'luckily', 'lucky', 'lucozade', 'lucy', 'lucyxx', 'luks', 'lul', 'lunch', 'lunchtime', 'lunsford', 'lush', 'luton', 'luv', 'luvd', 'luvs', 'lux', 'luxury', 'lv', 'lvblefrnd', 'lyf', 'lyfu', 'lying', 'lyk', 'lyricalladie', 'lyrics', 'm100', 'm221bp', 'm227xy', 'm26', 'm263uz', 'm39m51', 'm6', 'm60', 'm8', 'm8s', 'm95', 'ma', 'maaaan', 'maangalyam', 'maat', 'mac', 'macedonia', 'macha', 'machan', 'machi', 'machines', 'macho', 'mack', 'macleran', 'macs', 'mad', 'mad1', 'mad2', 'madam', 'made', 'madodu', 'madoke', 'madstini', 'madurai', 'mag', 'maga', 'magazine', 'maggi', 'magic', 'magical', 'magicalsongs', 'mah', 'mahal', 'mahaveer', 'mahfuuz', 'maid', 'mail', 'mailbox', 'mailed', 'mails', 'main', 'maintain', 'maintaining', 'major', 'make', 'makes', 'makiing', 'makin', 'making', 'malaria', 'malarky', 'male', 'mall', 'mallika', 'man', 'manage', 'manageable', 'managed', 'management', 'manchester', 'manda', 'mandan', 'mandara', 'mandy', 'maneesha', 'manege', 'mango', 'maniac', 'manky', 'manual', 'many', 'map', 'mapquest', 'maps', 'maraikara', 'marandratha', 'march', 'maretare', 'margaret', 'margin', 'marine', 'mark', 'market', 'marketing', 'marking', 'marley', 'marrge', 'marriage', 'married', 'marry', 'marsms', 'maruti', 'marvel', 'mary', 'mas', 'masked', 'massage', 'massages', 'massive', 'masteriastering', 'masters', 'mat', 'match', 'matched', 'matches', 'mate', 'mates', 'math', 'mathe', 'mathematics', 'mathews', 'maths', 'matra', 'matric', 'matrix3', 'matter', 'matters', 'matthew', 'matured', 'maturity', 'max', 'max10mins', 'max6', 'maximize', 'maximum', 'may', 'mayb', 'maybe', 'mb', 'mc', 'mca', 'mcat', 'mcfly', 'mcr', 'me', 'meal', 'meals', 'mean', 'meaning', 'meaningful', 'meaningless', 'means', 'meant', 'meanwhile', 'measure', 'meat', 'meatballs', 'mecause', 'med', 'medical', 'medicine', 'meds', 'mee', 'meet', 'meetin', 'meeting', 'meetins', 'meets', 'meg', 'mega', 'meh', 'mei', 'meive', 'mel', 'melle', 'melnite', 'melody', 'melt', 'member', 'members', 'membership', 'memorable', 'memories', 'memory', 'men', 'mens', 'mental', 'mention', 'mentioned', 'mentionned', 'mentor', 'menu', 'meow', 'merely', 'merememberin', 'merry', 'mesages', 'mess', 'message', 'messaged', 'messages', 'messaging', 'messed', 'messenger', 'messy', 'met', 'method', 'mf', 'mfl', 'mgs', 'mi', 'mia', 'michael', 'mid', 'middle', 'midnight', 'mids', 'might', 'miiiiiiissssssssss', 'mike', 'mila', 'mileage', 'miles', 'milk', 'millers', 'million', 'millions', 'milta', 'min', 'mina', 'minapn', 'mind', 'minded', 'mindset', 'mine', 'minecraft', 'mini', 'minimum', 'minmobsmore', 'minmobsmorelkpobox177hp51fl', 'minmoremobsemspobox45po139wa', 'minnaminunginte', 'minor', 'mins', 'mint', 'minus', 'minute', 'minutes', 'minuts', 'miracle', 'mirror', 'mis', 'misbehaved', 'miserable', 'misfits', 'mising', 'misplaced', 'miss', 'misscall', 'missed', 'missin', 'missing', 'missionary', 'missions', 'misss', 'missunderstding', 'missy', 'mist', 'mistake', 'mistakes', 'misundrstud', 'mite', 'mitsake', 'mittelschmertz', 'miwa', 'mix', 'mj', 'mjzgroup', 'mk17', 'mk45', 'ml', 'mm', 'mmm', 'mmmm', 'mmmmm', 'mmmmmm', 'mmmmmmm', 'mmsto', 'mns', 'mnth', 'mnths', 'mo', 'moan', 'mob', 'mobcudb', 'mobile', 'mobiles', 'mobilesdirect', 'mobilesvary', 'mobileupd8', 'mobno', 'mobs', 'mobsi', 'mobstorequiz10ppm', 'moby', 'mobypobox734ls27yf', 'mode', 'model', 'modl', 'module', 'modules', 'mofo', 'moji', 'mojibiola', 'mokka', 'molested', 'mom', 'moment', 'moments', 'moms', 'mon', 'monday', 'mone', 'money', 'monkeespeople', 'monkey', 'monkeyaround', 'monkeys', 'mono', 'monoc', 'monos', 'monster', 'month', 'monthly', 'monthlysubscription', 'months', 'mood', 'moon', 'moral', 'more', 'morefrmmob', 'morn', 'mornin', 'morning', 'mornings', 'morphine', 'morrow', 'moseley', 'most', 'mostly', 'mother', 'motherfucker', 'motivate', 'motivating', 'motive', 'motor', 'motorola', 'mountain', 'mountains', 'mouse', 'mouth', 'move', 'moved', 'moves', 'movie', 'movies', 'movietrivia', 'moving', 'mp3', 'mquiz', 'mr', 'mre', 'mrng', 'mrt', 'ms', 'msg', 'msg150p', 'msging', 'msgrcvd', 'msgrcvd18', 'msgrcvdhg', 'msgs', 'msn', 'mt', 'mtalk', 'mth', 'mths', 'mtmsg', 'mtmsg18', 'mtmsgrcvd18', 'mtnl', 'mu', 'muah', 'much', 'muchand', 'muchxxlove', 'mudyadhu', 'mufti', 'muhommad', 'muht', 'multimedia', 'multiply', 'multis', 'mum', 'mumbai', 'mumhas', 'mummy', 'mums', 'mumtaz', 'mundhe', 'munsters', 'murali', 'murder', 'murdered', 'murderer', 'mus', 'mush', 'mushy', 'music', 'musical', 'musicnews', 'must', 'musta', 'musthu', 'mustprovide', 'mutai', 'mutations', 'muz', 'mw', 'mwahs', 'my', 'mycalls', 'mylife', 'mymoby', 'myparents', 'mys', 'myself', 'myspace', 'mystery', 'n8', 'n9dx', 'na', 'naal', 'nachos', 'nag', 'nagar', 'nah', 'nahi', 'nails', 'naked', 'nalla', 'nalli', 'name', 'name1', 'name2', 'named', 'names', 'nammanna', 'namous', 'nan', 'nange', 'nanny', 'nannys', 'nap', 'narcotics', 'nasdaq', 'naseeb', 'nasty', 'nat', 'nat27081980', 'natalie', 'natalie2k9', 'natalja', 'national', 'nationwide', 'nattil', 'natural', 'nature', 'natwest', 'naughty', 'nauseous', 'nav', 'navigate', 'nb', 'nbme', 'nd', 'ndship', 'ne', 'near', 'nearby', 'nearer', 'nearly', 'necesity', 'necessarily', 'necessary', 'necessity', 'neck', 'necklace', 'ned', 'need', 'needa', 'needed', 'needing', 'needle', 'needs', 'needy', 'neekunna', 'neft', 'negative', 'neglect', 'neglet', 'neighbor', 'neighbors', 'neighbour', 'neither', 'nelson', 'neo69', 'nervous', 'neshanth', 'net', 'netcollex', 'netflix', 'nething', 'netun', 'netvision', 'network', 'networking', 'networks', 'neva', 'nevamind', 'never', 'nevering', 'neville', 'nevr', 'new', 'neway', 'newest', 'newport', 'newquay', 'news', 'newscaster', 'newsletter', 'newspapers', 'next', 'nhs', 'ni8', 'nic', 'nice', 'nichols', 'nick', 'nickey', 'nicky', 'nig', 'nigeria', 'nigh', 'night', 'nighters', 'nightnight', 'nights', 'nigpun', 'nigro', 'nike', 'nikiyu4', 'nimbomsons', 'nimya', 'ninish', 'nino', 'nipost', 'nit', 'nite', 'nitro', 'nitros', 'nitw', 'nitz', 'njan', 'nmde', 'no', 'no1', 'nobbing', 'nobody', 'noe', 'noi', 'noice', 'noise', 'noisy', 'nok', 'nokia', 'nokia6600', 'nokia6650', 'nokias', 'noline', 'non', 'noncomittal', 'none', 'nonetheless', 'nookii', 'noon', 'nooooooo', 'noooooooo', 'nope', 'nor', 'nora', 'norcorp', 'nordstrom', 'norm', 'norm150p', 'normal', 'normally', 'north', 'northampton', 'nos', 'nose', 'nosh', 'nosy', 'not', 'note', 'notebook', 'notes', 'nothin', 'nothing', 'notice', 'notifications', 'notified', 'notixiquating', 'nottingham', 'notxt', 'noun', 'novelty', 'november', 'now', 'now1', 'nowadays', 'nowhere', 'noworriesloans', 'nr31', 'nri', 'nt', 'nte', 'ntimate', 'ntt', 'ntwk', 'nuclear', 'nudist', 'nuerologist', 'num', 'number', 'numbers', 'nursery', 'nurses', 'nurungu', 'nus', 'nusstu', 'nuther', 'nutter', 'nver', 'nvm', 'nvq', 'nw', 'nxt', 'ny', 'nyc', 'nydc', 'nyt', 'nytho', 'nz', 'nìte', 'o2', 'o2fwd', 'oath', 'obedient', 'obese', 'obey', 'objection', 'oble', 'oblisingately', 'oblivious', 'obviously', 'occasion', 'occupied', 'occupy', 'occur', 'occurs', 'ocean', 'oclock', 'october', 'odalebeku', 'odi', 'of', 'ofcourse', 'off', 'offc', 'offcampus', 'offdam', 'offense', 'offer', 'offered', 'offering', 'offers', 'office', 'officer', 'official', 'officially', 'offline', 'ofice', 'ofsi', 'ofstuff', 'often', 'oga', 'ogunrinde', 'oh', 'oi', 'oic', 'oil', 'oja', 'ok', 'okay', 'okday', 'okden', 'okey', 'okie', 'okies', 'okmail', 'okors', 'ola', 'olage', 'olave', 'olayiwola', 'old', 'oli', 'ollu', 'olol', 'olowoyey', 'olympics', 'omg', 'omw', 'on', 'onam', 'onbus', 'oncall', 'once', 'ondu', 'one', 'ones', 'oni', 'onion', 'online', 'onluy', 'only', 'only1more', 'onlyfound', 'onto', 'onum', 'onwards', 'onwords', 'ooh', 'oooh', 'oooooh', 'ooooooh', 'oops', 'open', 'opened', 'opener', 'openin', 'opening', 'openings', 'operate', 'operator', 'opinion', 'opinions', 'opponenter', 'opportunity', 'opposed', 'opposite', 'opps', 'opt', 'opted', 'optimistic', 'optin', 'option', 'optout', 'or', 'or2optout', 'or2stoptxt', 'oral', 'orange', 'oranges', 'orc', 'orchard', 'order', 'ordered', 'ordinator', 'ore', 'oredi', 'oreo', 'oreos', 'org', 'organise', 'organizer', 'orh', 'orig', 'original', 'orno', 'ors', 'ortxt', 'oru', 'os', 'oscar', 'oso', 'otbox', 'other', 'others', 'otherwise', 'othrs', 'othrwise', 'otside', 'ou', 'ouch', 'our', 'ourbacks', 'ours', 'out', 'outage', 'outages', 'outbid', 'outdoors', 'outfit', 'outfor', 'outgoing', 'outl8r', 'outrageous', 'outreach', 'outs', 'outside', 'outsider', 'outsomewhere', 'outstanding', 'outta', 'ovarian', 'oveable', 'over', 'overa', 'overdid', 'overdose', 'overemphasise', 'overheating', 'overtime', 'ovr', 'ovulate', 'ovulation', 'ow', 'owe', 'owed', 'owl', 'own', 'owned', 'owns', 'owo', 'oxygen', 'oyea', 'oyster', 'oz', 'pa', 'paces', 'pack', 'package', 'packing', 'packs', 'padhe', 'page', 'pages', 'pai', 'paid', 'pain', 'painful', 'paining', 'painting', 'pairs', 'pale', 'palm', 'pan', 'panalam', 'panasonic', 'pandy', 'panic', 'panicks', 'panren', 'pansy', 'panther', 'panties', 'pants', 'pap', 'papa', 'paper', 'papers', 'paperwork', 'paracetamol', 'parachute', 'parade', 'paragon', 'paragraphs', 'paranoid', 'parantella', 'parchi', 'parco', 'parent', 'parents', 'paris', 'parish', 'park', 'parked', 'parkin', 'parking', 'part', 'participate', 'particular', 'particularly', 'parties', 'partner', 'partnership', 'parts', 'party', 'paru', 'pases', 'pass', 'passable', 'passed', 'passes', 'passion', 'passionate', 'passport', 'password', 'passwords', 'past', 'pataistha', 'patent', 'path', 'pathaya', 'paths', 'patients', 'patrick', 'pattern', 'patty', 'paul', 'pause', 'pavanaputra', 'pax', 'pay', 'payasam', 'payback', 'payed', 'payed2day', 'payee', 'paying', 'payment', 'payments', 'payoh', 'paypal', 'pc', 'pc1323', 'pdate_now', 'peace', 'peaceful', 'peach', 'peak', 'pears', 'pee', 'peeps', 'pehle', 'pei', 'pen', 'pence', 'pendent', 'pending', 'penis', 'penny', 'people', 'peoples', 'per', 'percent', 'percentages', 'perf', 'perfect', 'perform', 'performance', 'performed', 'perfume', 'perhaps', 'peril', 'period', 'peripherals', 'permanent', 'permission', 'permissions', 'perpetual', 'persevered', 'persian', 'persolvo', 'person', 'person2die', 'personal', 'personality', 'personally', 'persons', 'perspective', 'pert', 'perumbavoor', 'pesky', 'pest', 'pete', 'petexxx', 'petey', 'petrol', 'petticoatdreams', 'pg', 'ph', 'pharmacy', 'phasing', 'phb1', 'phd', 'phews', 'phil', 'philosophical', 'philosophy', 'phne', 'phoenix', 'phone', 'phone750', 'phonebook', 'phoned', 'phones', 'phony', 'photo', 'photos', 'photoshop', 'php', 'phrase', 'phyhcmk', 'physics', 'piah', 'pic', 'pick', 'picked', 'picking', 'pickle', 'pics', 'picsfree1', 'picture', 'pictures', 'pie', 'piece', 'pieces', 'pierre', 'pig', 'piggy', 'pilates', 'pile', 'pillows', 'pimples', 'pin', 'pink', 'pints', 'pisces', 'piss', 'pissed', 'pist', 'pity', 'pix', 'pixels', 'pizza', 'pl', 'place', 'placed', 'placement', 'places', 'plaid', 'plan', 'plane', 'planet', 'planettalkinstant', 'planned', 'planning', 'plans', 'plate', 'platt', 'play', 'played', 'player', 'players', 'playin', 'playing', 'playng', 'plaza', 'pleasant', 'please', 'pleased', 'pleassssssseeeeee', 'pleasure', 'pleasured', 'plenty', 'plm', 'ploughing', 'pls', 'plum', 'plumbers', 'plumbing', 'plural', 'plus', 'plyr', 'plz', 'pm', 'pmt', 'po', 'po19', 'pobox', 'pobox1', 'pobox114', 'pobox12n146tf15', 'pobox12n146tf150p', 'pobox202', 'pobox334', 'pobox36504w45wq', 'pobox365o4w45wq', 'pobox45w2tg150p', 'pobox75ldns7', 'pobox84', 'poboxox36504w45wq', 'pocay', 'pocked', 'pocketbabe', 'pockets', 'pocy', 'pod', 'poem', 'poet', 'point', 'points', 'poker', 'poking', 'pokkiri', 'pole', 'police', 'politicians', 'polo', 'poly', 'poly3', 'polyc', 'polyh', 'polyph', 'polyphonic', 'polys', 'pongal', 'ponnungale', 'poo', 'pooja', 'pookie', 'pool', 'poop', 'poor', 'poorly', 'poortiyagi', 'pop', 'popcorn', 'popped', 'popping', 'porn', 'porridge', 'port', 'portal', 'portege', 'portions', 'pos', 'pose', 'posh', 'posible', 'position', 'positions', 'positive', 'possession', 'possessive', 'possessiveness', 'possibility', 'possible', 'possibly', 'post', 'postal', 'postcard', 'postcode', 'posted', 'posting', 'postponed', 'posts', 'potato', 'potential', 'potter', 'pouch', 'pound', 'pounded', 'pounds', 'poured', 'pours', 'pouts', 'power', 'powerful', 'poyyarikatur', 'ppl', 'pple', 'ppm', 'ppm150', 'ppt150x3', 'prabha', 'prabu', 'pract', 'practical', 'practice', 'practicing', 'practicum', 'practising', 'praises', 'prakasam', 'prakasamanu', 'prakesh', 'praps', 'prasad', 'prasanth', 'prashanthettan', 'praveesh', 'pray', 'prayers', 'praying', 'prayrs', 'pre', 'predict', 'predicte', 'predicting', 'prediction', 'predictive', 'prefer', 'preferably', 'prem', 'premarica', 'premier', 'premium', 'prepaid', 'prepare', 'prepared', 'prepayment', 'preponed', 'preschoolco', 'prescribed', 'prescripiton', 'prescription', 'presence', 'present', 'presents', 'president', 'presleys', 'presnts', 'press', 'pressies', 'pressure', 'prestige', 'pretend', 'pretsorginta', 'pretsovru', 'pretty', 'prevent', 'previews', 'previous', 'previously', 'prey', 'price', 'prices', 'pride', 'priest', 'prin', 'prince', 'princes', 'princess', 'print', 'printed', 'printer', 'printing', 'prior', 'priority', 'priscilla', 'privacy', 'private', 'prix', 'priya', 'prize', 'prizeawaiting', 'prizes', 'prizeswith', 'pro', 'prob', 'probably', 'problem', 'problematic', 'problems', 'problms', 'problum', 'probpop', 'probs', 'probthat', 'process', 'processed', 'prods', 'products', 'prof', 'professional', 'professors', 'profile', 'profiles', 'profit', 'program', 'programs', 'progress', 'project', 'projects', 'prolly', 'prometazine', 'prominent', 'promise', 'promised', 'promises', 'promo', 'promoting', 'promotion', 'promptly', 'prompts', 'prone', 'proof', 'proove', 'proper', 'properly', 'property', 'propose', 'props', 'propsd', 'pros', 'prospects', 'protect', 'prove', 'proverb', 'provided', 'provider', 'providing', 'province', 'proze', 'prsn', 'ps', 'ps3', 'pshew', 'psp', 'psxtra', 'psychiatrist', 'psychic', 'psychologist', 'pt2', 'ptbo', 'pthis', 'pub', 'public', 'publish', 'pubs', 'pudunga', 'pull', 'pulling', 'pulls', 'pump', 'punch', 'punish', 'punishment', 'punj', 'punto', 'puppy', 'pura', 'purchase', 'purchases', 'pure', 'purity', 'purple', 'purpose', 'purse', 'push', 'pushbutton', 'pushes', 'pussy', 'put', 'puts', 'puttin', 'putting', 'puzzeles', 'puzzles', 'px3748', 'qatar', 'qbank', 'qet', 'qi', 'qing', 'qjkgighjjgcbl', 'qlynnbv', 'quality', 'quarter', 'que', 'queen', 'queries', 'ques', 'question', 'questioned', 'questions', 'quick', 'quickly', 'quiet', 'quit', 'quite', 'quiteamuzing', 'quitting', 'quiz', 'quizclub', 'quizzes', 'quote', 'quoting', 'r836', 'racal', 'racing', 'radiator', 'radio', 'raed', 'rael', 'raglan', 'rahul', 'raiden', 'railway', 'rain', 'raining', 'raise', 'raised', 'raj', 'rajas', 'raji', 'rajini', 'rajitha', 'rajnikant', 'rakhesh', 'raksha', 'rally', 'ralphs', 'ramaduth', 'ramen', 'ran', 'random', 'randomlly', 'randomly', 'randy', 'rang', 'range', 'ranjith', 'ranju', 'raping', 'rate', 'rates', 'rather', 'ratio', 'rats', 'raviyog', 'rawring', 'rayan', 'rayman', 'rays', 'rcb', 'rcd', 'rct', 'rcv', 'rcvd', 'rd', 'rdy', 're', 'reach', 'reache', 'reached', 'reaching', 'reacting', 'reaction', 'read', 'readers', 'readiness', 'reading', 'ready', 'real', 'real1', 'realise', 'realised', 'realising', 'reality', 'realize', 'realized', 'realizes', 'really', 'reallyneed', 'realy', 'reapply', 'rearrange', 'reason', 'reasonable', 'reasons', 'reassurance', 'reassuring', 'rebel', 'reboot', 'rebooting', 'rebtel', 'rec', 'recd', 'receipt', 'receipts', 'receive', 'receivea', 'received', 'receiving', 'recent', 'recently', 'reception', 'recession', 'recharge', 'recharged', 'recieve', 'reckon', 'recognise', 'recognises', 'record', 'recorded', 'recorder', 'records', 'recount', 'recovery', 'recpt', 'recreation', 'recycling', 'red', 'redeemable', 'redeemed', 'reduce', 'ree', 'ref', 'reference', 'references', 'referin', 'reffering', 'refilled', 'reflection', 'reflex', 'reformat', 'refreshed', 'refund', 'refunded', 'refused', 'reg', 'regalportfolio', 'regard', 'regarding', 'regards', 'register', 'registered', 'registration', 'regret', 'regretted', 'regular', 'rejected', 'related', 'relation', 'relationship', 'relatives', 'relax', 'relaxing', 'released', 'reliant', 'relieved', 'religiously', 'relocate', 'reltnship', 'rem', 'remain', 'remains', 'remb', 'remember', 'remembered', 'rememberi', 'remembr', 'remembrs', 'remind', 'reminded', 'reminder', 'reminding', 'reminds', 'remixed', 'removal', 'remove', 'removed', 'rencontre', 'renewal', 'renewed', 'renewing', 'rent', 'rental', 'renting', 'rentl', 'rents', 'repair', 'repairs', 'repeat', 'repeating', 'repent', 'replace', 'replacement', 'replacing', 'replied', 'replies', 'reply', 'replying', 'replys150', 'report', 'reppurcussions', 'representative', 'republic', 'request', 'requests', 'require', 'required', 'requirements', 'requires', 'research', 'resend', 'resent', 'reservations', 'reserve', 'reserved', 'reserves', 'reset', 'residency', 'resizing', 'reslove', 'resolution', 'resolved', 'resort', 'respect', 'respectful', 'responce', 'respond', 'responding', 'response', 'responsibilities', 'responsibility', 'responsible', 'rest', 'restaurant', 'restock', 'restocked', 'restrict', 'restrictions', 'resubbing', 'resubmit', 'result', 'results', 'resume', 'resuming', 'retard', 'retired', 'retrieve', 'return', 'returned', 'returning', 'returns', 'reunion', 'reveal', 'revealed', 'revealing', 'reverse', 'review', 'revision', 'reward', 'rewarding', 'rg21', 'rgds', 'rgent', 'rhode', 'rhythm', 'rice', 'rich', 'riddance', 'ridden', 'ride', 'right', 'rightio', 'rightly', 'rights', 'riley', 'rimac', 'ring', 'ringing', 'rings', 'ringtone', 'ringtoneking', 'ringtones', 'rinu', 'rip', 'ripped', 'rise', 'risk', 'risks', 'rite', 'ritten', 'river', 'road', 'roads', 'roast', 'rob', 'robinson', 'robs', 'rock', 'rocking', 'rocks', 'rodds1', 'rodger', 'rofl', 'roger', 'role', 'roles', 'rolled', 'roller', 'romantic', 'romcapspam', 'ron', 'room', 'roomate', 'roommate', 'roommates', 'rooms', 'ros', 'rose', 'roses', 'rough', 'round', 'rounder', 'rounds', 'route', 'row', 'rowdy', 'rows', 'royal', 'rp176781', 'rpl', 'rply', 'rr', 'rs', 'rstm', 'rt', 'rtf', 'rtm', 'rto', 'ru', 'rub', 'rubber', 'rude', 'rudi', 'rugby', 'ruin', 'ruining', 'rule', 'rules', 'rum', 'rumbling', 'rummer', 'rumour', 'run', 'running', 'runs', 'rupaul', 'rush', 'rushing', 'ruthful', 'rv', 'rvx', 'rwm', 'ryan', 'ryder', 's3xy', 's89', 'sabarish', 'sac', 'sachin', 'sack', 'sacked', 'sacrifice', 'sad', 'sae', 'saeed', 'safe', 'safely', 'safety', 'sagamu', 'saibaba', 'said', 'sake', 'salad', 'salam', 'salary', 'sale', 'sales', 'salesman', 'sall', 'salmon', 'salon', 'salt', 'sam', 'samachara', 'samantha', 'sambar', 'same', 'samus', 'sandiago', 'sane', 'sang', 'sankatmochan', 'sankranti', 'santa', 'santacalling', 'sao', 'sapna', 'sar', 'sara', 'sarasota', 'sarcasm', 'sarcastic', 'saristar', 'sariyag', 'sary', 'sashimi', 'sat', 'satanic', 'sathy', 'sathya', 'satisfied', 'satisfy', 'satsgettin', 'satthen', 'saturday', 'saucy', 'sausage', 'savamob', 'save', 'saved', 'saves', 'savings', 'saw', 'say', 'sayhey', 'sayin', 'saying', 'says', 'sayy', 'sc', 'scallies', 'scammers', 'scarcasim', 'scared', 'scary', 'scenario', 'scenery', 'sch', 'schedule', 'school', 'schools', 'science', 'scold', 'scool', 'scorable', 'score', 'scores', 'scoring', 'scotch', 'scotland', 'scotsman', 'scouse', 'scraped', 'scrappy', 'scratches', 'scratching', 'scream', 'screamed', 'screaming', 'screen', 'screwd', 'scrounge', 'scrumptious', 'sculpture', 'sd', 'sday', 'sdryb8i', 'se', 'sea', 'search', 'searching', 'season', 'seat', 'sec', 'second', 'secondary', 'seconds', 'secret', 'secretary', 'secretly', 'secrets', 'secs', 'section', 'sections', 'secure', 'secured', 'sed', 'see', 'seeds', 'seeing', 'seekers', 'seeking', 'seem', 'seemed', 'seems', 'seen', 'sef', 'seh', 'sehwag', 'seing', 'select', 'selected', 'selection', 'self', 'selfindependence', 'selfish', 'selflessness', 'sell', 'selling', 'sells', 'sem', 'semester', 'semi', 'semiobscure', 'sen', 'send', 'sender', 'sending', 'sends', 'senor', 'senrd', 'sense', 'senses', 'sensible', 'sensitive', 'sent', 'sentence', 'senthil', 'sentiment', 'seperated', 'sept', 'september', 'serena', 'series', 'serious', 'seriously', 'served', 'server', 'service', 'services', 'serving', 'servs', 'set', 'setting', 'settings', 'settle', 'settled', 'settling', 'seven', 'seventeen', 'several', 'sex', 'sexiest', 'sextextuk', 'sexual', 'sexy', 'sexychat', 'sez', 'sf', 'sg', 'sh', 'sha', 'shade', 'shadow', 'shag', 'shagged', 'shah', 'shahjahan', 'shakara', 'shake', 'shakespeare', 'shaking', 'shall', 'shame', 'shampain', 'shangela', 'shanghai', 'shanil', 'shant', 'shaping', 'share', 'shared', 'sharing', 'shattered', 'shaved', 'shb', 'shd', 'she', 'sheet', 'sheets', 'sheffield', 'shelf', 'shell', 'shelves', 'sherawat', 'shes', 'shesil', 'shexy', 'shhhhh', 'shifad', 'shijas', 'shijutta', 'shinco', 'shindig', 'shining', 'shiny', 'ship', 'shipped', 'shipping', 'shirt', 'shirts', 'shit', 'shite', 'shitin', 'shitinnit', 'shitload', 'shitstorm', 'shivratri', 'shld', 'shldxxxx', 'shock', 'shocking', 'shoes', 'shola', 'shoot', 'shop', 'shoppin', 'shopping', 'shoranur', 'shore', 'short', 'shortage', 'shortbreaks', 'shortcode', 'shorter', 'shortly', 'shorts', 'shot', 'shoul', 'should', 'shoulders', 'shouldn', 'shouted', 'shouting', 'shove', 'shoving', 'show', 'showed', 'shower', 'showered', 'showers', 'showing', 'showr', 'showrooms', 'shows', 'shracomorsglsuplt', 'shrek', 'shrink', 'shrub', 'shsex', 'shu', 'shud', 'shudvetold', 'shuhui', 'shun', 'shut', 'shy', 'si', 'sian', 'sib', 'sic', 'sick', 'sickness', 'side', 'sigh', 'sighs', 'sight', 'sign', 'signal', 'significance', 'significant', 'signin', 'signing', 'siguviri', 'silence', 'silent', 'silently', 'silly', 'silver', 'sim', 'simonwatson5120', 'simple', 'simpler', 'simply', 'simpsons', 'simulate', 'since', 'sinco', 'sindu', 'sing', 'singapore', 'singing', 'single', 'singles', 'sink', 'sip', 'sipix', 'sips', 'sir', 'sirji', 'sis', 'sister', 'sisters', 'sit', 'site', 'sitll', 'sitter', 'sittin', 'sitting', 'situation', 'situations', 'siva', 'six', 'size', 'sized', 'sk3', 'sk38xh', 'skateboarding', 'skilgme', 'skillgame', 'skills', 'skinny', 'skins', 'skint', 'skip', 'skirt', 'sky', 'skye', 'skype', 'skyped', 'skyving', 'slaaaaave', 'slacking', 'slap', 'slave', 'sleep', 'sleepin', 'sleeping', 'sleepingwith', 'sleeps', 'sleepwell', 'sleepy', 'slept', 'slice', 'slices', 'slide', 'sliding', 'slightly', 'slip', 'slippers', 'slippery', 'slo', 'slob', 'slots', 'slovely', 'slow', 'slower', 'slowing', 'slowly', 'slp', 'slurp', 'smacks', 'small', 'smaller', 'smart', 'smartcall', 'smarter', 'smash', 'smashed', 'smear', 'smell', 'smells', 'smeone', 'smidgin', 'smile', 'smiled', 'smiles', 'smiley', 'smiling', 'smith', 'smoke', 'smoked', 'smokes', 'smokin', 'smoking', 'smoothly', 'sms', 'smsco', 'smsing', 'smsrewards', 'smsservices', 'smth', 'sn', 'snake', 'snap', 'snappy', 'snatch', 'snd', 'sneham', 'snickering', 'snogs', 'snoring', 'snot', 'snow', 'snowball', 'snowboarding', 'snowman', 'snuggles', 'so', 'soc', 'sochte', 'social', 'sofa', 'soft', 'software', 'soil', 'soiree', 'sol', 'soladha', 'sold', 'solihull', 'solve', 'solved', 'some', 'some1', 'somebody', 'someday', 'someone', 'someonone', 'someplace', 'somerset', 'sometext', 'somethin', 'something', 'sometime', 'sometimes', 'sometme', 'somewhat', 'somewhere', 'somewheresomeone', 'somewhr', 'somone', 'somtimes', 'sonathaya', 'sonetimes', 'song', 'songs', 'sony', 'sonyericsson', 'soo', 'soon', 'sooner', 'soonlots', 'sooo', 'soooo', 'sooooo', 'sophas', 'sore', 'sorrow', 'sorrows', 'sorry', 'sort', 'sorta', 'sorted', 'sorting', 'sorts', 'sory', 'soryda', 'sos', 'soul', 'sound', 'sounding', 'sounds', 'soundtrack', 'soup', 'source', 'sources', 'south', 'southern', 'souveniers', 'soz', 'sozi', 'sp', 'space', 'spacebucks', 'spaces', 'spageddies', 'spain', 'spam', 'spanish', 'spare', 'spares', 'spark', 'sparkling', 'spatula', 'speak', 'speaking', 'special', 'speciale', 'specialisation', 'specialise', 'specially', 'specific', 'specify', 'specs', 'speechless', 'speed', 'speedchat', 'speeding', 'speling', 'spell', 'spelled', 'spelling', 'spend', 'spending', 'spent', 'sphosting', 'spice', 'spider', 'spiffing', 'spile', 'spin', 'spinout', 'spiral', 'spirit', 'spiritual', 'spjanuary', 'spk', 'spl', 'splash', 'splashmobile', 'splat', 'splendid', 'split', 'splleing', 'spoil', 'spoiled', 'spoilt', 'spoke', 'spoken', 'sponsors', 'spontaneously', 'spook', 'spoon', 'spoons', 'sporadically', 'sport', 'sports', 'sportsx', 'spose', 'spot', 'spotty', 'spouse', 'sppok', 'spreadsheet', 'spree', 'spring', 'springs', 'sprint', 'sptv', 'spun', 'spys', 'sq825', 'squatting', 'squeeeeeze', 'squeezed', 'squid', 'squishy', 'srs', 'srsly', 'srt', 'sry', 'st', 'stability', 'stable', 'stadium', 'staff', 'stage', 'stagwood', 'stairs', 'stalk', 'stalking', 'stamped', 'stamps', 'stand', 'standard', 'standing', 'stands', 'stapati', 'star', 'starer', 'staring', 'starring', 'stars', 'starshine', 'start', 'started', 'starting', 'starts', 'starve', 'starving', 'starwars3', 'stash', 'stated', 'statement', 'statements', 'station', 'status', 'stay', 'stayed', 'stayin', 'staying', 'stays', 'std', 'stdtxtrate', 'steak', 'steal', 'stealing', 'steam', 'steamboat', 'steed', 'steering', 'step', 'steps', 'stereo', 'stereophonics', 'sterling', 'sterm', 'steve', 'stewartsize', 'steyn', 'sth', 'stick', 'sticky', 'stifled', 'stil', 'still', 'stink', 'stitch', 'stock', 'stocked', 'stockport', 'stolen', 'stomach', 'stomps', 'stone', 'stoners', 'stones', 'stool', 'stop', 'stop2', 'stop2stop', 'stopbcm', 'stopcost', 'stopcs', 'stopped', 'stops', 'stopsms', 'stoptxtstop', 'store', 'stores', 'stories', 'storming', 'story', 'str', 'str8', 'straight', 'strain', 'strange', 'stranger', 'stream', 'street', 'stress', 'stressed', 'stressful', 'stressfull', 'stretch', 'strewn', 'strict', 'strike', 'strings', 'strip', 'stripes', 'strips', 'strokes', 'strong', 'strongly', 'strt', 'strtd', 'struggling', 'sts', 'stu', 'stubborn', 'stuck', 'studdying', 'student', 'studentfinancial', 'students', 'studies', 'studio', 'study', 'studying', 'studyn', 'stuff', 'stuff42moro', 'stuffed', 'stuffing', 'stuffs', 'stunning', 'stupid', 'style', 'styles', 'styling', 'stylish', 'stylist', 'sub', 'subject', 'subletting', 'submitted', 'submitting', 'subpoly', 'subs', 'subs16', 'subscribe', 'subscribe6gbp', 'subscribed', 'subscriber', 'subscribers', 'subscription', 'subscriptions', 'subscriptn3gbp', 'subscrition', 'subsequent', 'subtoitles', 'success', 'successful', 'successfully', 'such', 'sucker', 'suckers', 'sucks', 'sudden', 'suddenly', 'sudn', 'sue', 'suffer', 'suffering', 'suffers', 'sufficient', 'sugababes', 'suganya', 'sugar', 'sugardad', 'suggest', 'suggestion', 'suggestions', 'suite', 'suite342', 'suitemates', 'suits', 'sullivan', 'sum', 'sum1', 'suman', 'sumfing', 'summer', 'summers', 'summon', 'sumthin', 'sun', 'sun0819', 'sunday', 'sundayish', 'sunlight', 'sunny', 'sunoco', 'sunroof', 'sunscreen', 'sunshine', 'suntec', 'sup', 'super', 'superb', 'superior', 'supervisor', 'suply', 'supose', 'suppliers', 'supplies', 'supply', 'support', 'supports', 'suppose', 'supposed', 'supreme', 'suprman', 'sura', 'sure', 'surely', 'surf', 'surfing', 'surgical', 'surly', 'surname', 'surprise', 'surprised', 'surrender', 'surrounded', 'survey', 'surya', 'sutra', 'sux', 'suzy', 'svc', 'sw7', 'sw73ss', 'swalpa', 'swan', 'swann', 'swap', 'swashbuckling', 'swat', 'swatch', 'sway', 'swayze', 'swear', 'sweater', 'sweatter', 'sweet', 'sweetest', 'sweetheart', 'sweetie', 'sweets', 'swell', 'swhrt', 'swimming', 'swimsuit', 'swing', 'swiss', 'switch', 'swollen', 'swoop', 'swt', 'swtheart', 'syd', 'syllabus', 'symbol', 'sympathetic', 'symptoms', 'synced', 'syria', 'syrup', 'system', 'systems', 't4get2text', 't91', 'ta', 'table', 'tablet', 'tablets', 'tackle', 'tacos', 'tactful', 'tactless', 'tag', 'tagged', 'tahan', 'tai', 'tait', 'taj', 'taka', 'take', 'takecare', 'taken', 'takes', 'takin', 'taking', 'talent', 'talents', 'talk', 'talkbut', 'talked', 'talkin', 'talking', 'talks', 'tall', 'tallahassee', 'tallent', 'tamilnadu', 'tampa', 'tank', 'tantrum', 'tap', 'tape', 'tariffs', 'tarot', 'tarpon', 'taste', 'tasts', 'tat', 'tata', 'tats', 'tattoos', 'tau', 'taught', 'taunton', 'taxes', 'taxi', 'taxless', 'taxt', 'taylor', 'tayseer', 'tb', 'tbs', 'tc', 'tcr', 'tcs', 'tddnewsletter', 'tea', 'teach', 'teacher', 'teachers', 'teaches', 'teaching', 'team', 'teams', 'tear', 'tears', 'tease', 'teasing', 'tech', 'technical', 'technologies', 'tee', 'teenager', 'teeth', 'teju', 'tel', 'telediscount', 'telephone', 'telephonic', 'teletext', 'tell', 'telling', 'tellmiss', 'tells', 'telly', 'telphone', 'telugu', 'temales', 'temp', 'temper', 'temple', 'ten', 'tenants', 'tendencies', 'tenerife', 'tensed', 'tension', 'teresa', 'term', 'terminated', 'terms', 'termsapply', 'ternal', 'terrible', 'terrific', 'terror', 'terrorist', 'terry', 'tescos', 'tessy', 'test', 'testing', 'tests', 'tex', 'texas', 'texd', 'text', 'text82228', 'textand', 'textbook', 'textbuddy', 'textcomp', 'texted', 'textin', 'texting', 'textoperator', 'textpod', 'texts', 'tgxxrz', 'th', 'than', 'thandiyachu', 'thangam', 'thank', 'thanks', 'thanks2', 'thanksgiving', 'thanku', 'thankyou', 'thanx', 'thanx4', 'thasa', 'that', 'that2worzels', 'thatmum', 'thats', 'the', 'the4th', 'theacusations', 'theater', 'theatre', 'thecd', 'thedailydraw', 'their', 'theirs', 'thekingshead', 'them', 'themed', 'themes', 'themob', 'then', 'thenampet', 'theoretically', 'theory', 'theplace', 'thepub', 'there', 'theres', 'these', 'thesedays', 'thesis', 'thesmszone', 'thet', 'thew', 'they', 'theyre', 'thgt', 'thia', 'thin', 'thing', 'things', 'think', 'thinked', 'thinkin', 'thinking', 'thinks', 'thinkthis', 'thinl', 'thirtyeight', 'thirunelvali', 'this', 'thk', 'thkin', 'thm', 'thnk', 'thnq', 'thnx', 'tho', 'those', 'thot', 'thou', 'though', 'thought', 'thoughts', 'thousands', 'thout', 'thread', 'threats', 'three', 'threw', 'thriller', 'throat', 'through', 'throw', 'throwin', 'throwing', 'thrown', 'throws', 'thru', 'ths', 'tht', 'thts', 'thuglyfe', 'thurs', 'thursday', 'thus', 'thx', 'thy', 'tick', 'ticket', 'tickets', 'tie', 'tiempo', 'tiger', 'tight', 'tightly', 'tigress', 'tihs', 'tiime', 'til', 'till', 'tim', 'time', 'times', 'timi', 'timin', 'timing', 'timings', 'tiny', 'tip', 'tips', 'tired', 'tiring', 'tirunelvai', 'tirunelvali', 'tirupur', 'tis', 'tissco', 'title', 'titles', 'tiwary', 'tix', 'tiz', 'tke', 'tkls', 'tkts', 'tlk', 'tlp', 'tm', 'tming', 'tmorow', 'tmorrow', 'tmr', 'tmrw', 'tms', 'tmw', 'tnc', 'tncs', 'to', 'toa', 'toaday', 'tobacco', 'tobed', 'tocall', 'toclaim', 'today', 'todays', 'todo', 'tog', 'together', 'tohar', 'toilet', 'tok', 'token', 'toking', 'tol', 'told', 'toledo', 'tolerance', 'tolerat', 'toll', 'tom', 'tomarrow', 'tome', 'tomeandsaid', 'tomo', 'tomorro', 'tomorrow', 'tomorw', 'tone', 'tones', 'tones2u', 'tones2you', 'tonexs', 'tonght', 'tongued', 'tonight', 'tonights', 'tonite', 'tons', 'tonsolitusaswell', 'too', 'took', 'tookplace', 'tool', 'tooo', 'toot', 'tooth', 'toothpaste', 'tootsie', 'top', 'topic', 'toplay', 'topped', 'toppoly', 'tops', 'tor', 'torch', 'torrents', 'tortilla', 'torture', 'tosend', 'toshiba', 'toss', 'tot', 'total', 'totally', 'totes', 'touch', 'touched', 'tough', 'toughest', 'tour', 'towards', 'town', 'toxic', 'toyota', 'tp', 'track', 'trackmarque', 'trade', 'traditions', 'traffic', 'train', 'trained', 'training', 'trainners', 'trains', 'tram', 'tranquility', 'transaction', 'transcribing', 'transfer', 'transfered', 'transferred', 'transfr', 'transfred', 'transport', 'trash', 'trauma', 'trav', 'travel', 'traveling', 'travelled', 'travelling', 'treacle', 'treadmill', 'treasure', 'treat', 'treated', 'treatin', 'treats', 'trebles', 'tree', 'trek', 'trends', 'trial', 'tried', 'trip', 'triple', 'trips', 'trishul', 'triumphed', 'trivia', 'tron', 'trouble', 'troubleshooting', 'trouser', 'truble', 'truck', 'true', 'true18', 'truffles', 'truly', 'truro', 'trust', 'trusting', 'truth', 'try', 'tryin', 'trying', 'ts', 'tsandcs', 'tscs', 'tscs08714740323', 'tscs087147403231winawk', 'tsunami', 'tsunamis', 'tt', 'ttyl', 'tue', 'tues', 'tuesday', 'tui', 'tuition', 'tul', 'tulip', 'tunde', 'tune', 'tunji', 'turkeys', 'turn', 'turned', 'turning', 'turns', 'tuth', 'tv', 'twat', 'twelve', 'twenty', 'twice', 'twiggs', 'twilight', 'twinks', 'twins', 'twittering', 'two', 'tx', 'txt', 'txt250', 'txt43', 'txt82228', 'txtauction', 'txtin', 'txting', 'txtno', 'txts', 'txtstar', 'txtstop', 'txttowin', 'txtx', 'tyler', 'type', 'types', 'typical', 'tyrone', 'u2moro', 'u4', 'uawake', 'ubandu', 'ubi', 'ugadi', 'ugh', 'ugo', 'uh', 'uhhhhrmm', 'uin', 'ujhhhhhhh', 'uk', 'ukp', 'uks', 'ultimate', 'ultimately', 'ultimatum', 'um', 'umma', 'ummifying', 'ummma', 'ummmmmaah', 'un', 'unable', 'unbelievable', 'unbreakable', 'unclaimed', 'uncle', 'uncles', 'uncomfortable', 'unconditionally', 'unconscious', 'unconsciously', 'unconvinced', 'uncountable', 'uncut', 'under', 'underdtand', 'understand', 'understanding', 'understood', 'underwear', 'undrstnd', 'undrstndng', 'unemployed', 'uneventful', 'unfolds', 'unfortunately', 'unfortuntly', 'unhappiness', 'unhappy', 'uni', 'unicef', 'uniform', 'unintentional', 'unintentionally', 'unique', 'united', 'units', 'univ', 'university', 'unjalur', 'unkempt', 'unknown', 'unless', 'unlike', 'unlimited', 'unmits', 'unnecessarily', 'unni', 'unrecognized', 'unredeemed', 'unsecured', 'unsold', 'unspoken', 'unsub', 'unsubscribe', 'unsubscribed', 'untamed', 'until', 'unusual', 'up', 'up4', 'upcharge', 'upd8', 'updat', 'update', 'update_now', 'upgrade', 'upgrading', 'upgrdcentre', 'upload', 'uploaded', 'upon', 'upping', 'ups', 'upset', 'upstairs', 'upto', 'uptown', 'ur', 'urawinner', 'ure', 'urfeeling', 'urgent', 'urgently', 'urgh', 'urgnt', 'urgoin', 'urgran', 'urination', 'url', 'urmom', 'urn', 'urself', 'us', 'usa', 'usb', 'usc', 'use', 'used', 'useful', 'useless', 'user', 'uses', 'usf', 'usher', 'using', 'usmle', 'usps', 'usual', 'usually', 'uterus', 'utter', 'uttered', 'uup', 'uv', 'uve', 'uwana', 'uwant', 'uworld', 'va', 'vaazhthukkal', 'vague', 'vaguely', 'vale', 'valentine', 'valentines', 'valid', 'valid12hrs', 'valuable', 'value', 'valued', 'values', 'valuing', 'varaya', 'vargu', 'various', 'varma', 'varunnathu', 'vary', 'vasai', 'vat', 'vatian', 'vava', 'vco', 'vday', 've', 'vegas', 'vegetables', 'veggie', 'vehicle', 'velachery', 'velly', 'velusamy', 'venaam', 'venugopal', 'verified', 'verify', 'verifying', 'version', 'versus', 'very', 'vettam', 'vewy', 'via', 'vibrant', 'vibrate', 'vibrator', 'vic', 'victoria', 'victors', 'vid', 'video', 'videochat', 'videophones', 'videos', 'videosound', 'videosounds', 'view', 'vijay', 'vijaykanth', 'vikky', 'vilikkam', 'vill', 'villa', 'village', 'vinobanagar', 'violated', 'violence', 'violet', 'vip', 'vipclub4u', 'virgil', 'virgin', 'virgins', 'virtual', 'visa', 'visionsms', 'visit', 'visiting', 'visitor', 'visitors', 'vital', 'vitamin', 'viva', 'vivek', 'vivekanand', 'vl', 'voda', 'vodafone', 'vodka', 'voice', 'voicemail', 'voila', 'volcanoes', 'vomit', 'vomitin', 'vomiting', 'vote', 'voted', 'vouch4me', 'voucher', 'vouchers', 'vpod', 'vry', 'vs', 'vth', 'vu', 'w1', 'w111wx', 'w14rg', 'w1a', 'w1j', 'w1j6hl', 'w1jhl', 'w1t1jy', 'w4', 'w45wq', 'w8in', 'wa', 'wa14', 'waaaat', 'wad', 'wadebridge', 'wah', 'wahala', 'wahay', 'waheed', 'waheeda', 'wahleykkum', 'waht', 'wait', 'waited', 'waitin', 'waiting', 'wake', 'waking', 'wales', 'waliking', 'walk', 'walkabout', 'walked', 'walkin', 'walking', 'walks', 'wall', 'wallet', 'wallpaper', 'walls', 'walmart', 'walsall', 'wamma', 'wan', 'wan2', 'wana', 'wanna', 'wannatell', 'want', 'want2come', 'wanted', 'wanting', 'wants', 'wap', 'waqt', 'warm', 'warming', 'warned', 'warner', 'warning', 'warranty', 'warwick', 'was', 'washob', 'wasn', 'wasnt', 'waste', 'wasted', 'wasting', 'wat', 'watch', 'watched', 'watches', 'watchin', 'watching', 'watchng', 'water', 'watever', 'watevr', 'wating', 'watr', 'wats', 'watts', 'wave', 'wavering', 'waves', 'way', 'way2sms', 'waz', 'wc1n', 'wc1n3xx', 'we', 'weak', 'weakness', 'weaknesses', 'weapon', 'wear', 'wearing', 'weaseling', 'weasels', 'weather', 'web', 'web2mobile', 'webadres', 'webeburnin', 'webpage', 'website', 'wed', 'weddin', 'wedding', 'weddingfriend', 'wedlunch', 'wednesday', 'weds', 'wee', 'weed', 'week', 'weekdays', 'weekend', 'weekends', 'weekly', 'weeks', 'weigh', 'weighed', 'weight', 'weightloss', 'weird', 'weirdest', 'weirdo', 'weirdy', 'weiyi', 'welcome', 'welcomes', 'well', 'wellda', 'welp', 'wen', 'wendy', 'wenever', 'went', 'wenwecan', 'wer', 'were', 'werebored', 'weren', 'werethe', 'wesley', 'wesleys', 'west', 'western', 'westlife', 'westonzoyland', 'westshore', 'wet', 'wetherspoons', 'wewa', 'whassup', 'what', 'whatever', 'whats', 'whatsup', 'wheat', 'wheel', 'wheellock', 'when', 'whenever', 'whenevr', 'whens', 'where', 'whereare', 'wherever', 'wherevr', 'wherre', 'whether', 'which', 'while', 'whilltake', 'whispers', 'white', 'whn', 'who', 'whoever', 'whole', 'whom', 'whore', 'whos', 'whose', 'whr', 'why', 'wi', 'wicked', 'wicket', 'wicklow', 'wid', 'widelive', 'wif', 'wife', 'wifes', 'wifi', 'wihtuot', 'wikipedia', 'wil', 'wild', 'wildest', 'wildlife', 'will', 'willing', 'willpower', 'win', 'win150ppmx3age16', 'wind', 'window', 'windows', 'winds', 'windy', 'wine', 'wined', 'wings', 'wining', 'winner', 'winnersclub', 'winning', 'wins', 'winterstone', 'wipe', 'wipro', 'wire3', 'wisdom', 'wise', 'wish', 'wisheds', 'wishes', 'wishin', 'wishing', 'wishlist', 'wiskey', 'wit', 'with', 'withdraw', 'wither', 'within', 'without', 'witin', 'witot', 'witout', 'wiv', 'wizzle', 'wk', 'wkend', 'wkent', 'wkg', 'wkly', 'wknd', 'wks', 'wlcome', 'wld', 'wml', 'wn', 'wnevr', 'wnt', 'wo', 'woah', 'wocay', 'woke', 'woken', 'woman', 'womdarfull', 'women', 'won', 'wondar', 'wondarfull', 'wonder', 'wonderful', 'wondering', 'wonders', 'wont', 'woo', 'woodland', 'woods', 'woohoo', 'woot', 'woould', 'woozles', 'worc', 'word', 'words', 'work', 'workage', 'workand', 'workin', 'working', 'workout', 'works', 'world', 'worlds', 'worms', 'worried', 'worries', 'worry', 'worrying', 'worse', 'worst', 'worth', 'worthless', 'wot', 'wotu', 'wotz', 'woul', 'would', 'woulda', 'wouldn', 'wounds', 'wow', 'wrc', 'wrecked', 'wrench', 'wrenching', 'wright', 'write', 'writhing', 'wrk', 'wrkin', 'wrking', 'wrks', 'wrld', 'wrnog', 'wrong', 'wrongly', 'wrote', 'ws', 'wt', 'wtc', 'wtf', 'wth', 'wthout', 'wtlp', 'wud', 'wudn', 'wuld', 'wuldnt', 'wun', 'www', 'wylie', 'x2', 'x29', 'x49', 'xafter', 'xam', 'xavier', 'xchat', 'xclusive', 'xin', 'xmas', 'xoxo', 'xt', 'xuhui', 'xx', 'xxsp', 'xxuk', 'xxx', 'xxxmobilemovieclub', 'xxxx', 'xxxxx', 'xxxxxx', 'xxxxxxx', 'xxxxxxxx', 'xxxxxxxxxxxxxx', 'xy', 'y87', 'ya', 'yah', 'yahoo', 'yalrigu', 'yalru', 'yam', 'yan', 'yar', 'yarasu', 'yards', 'yavnt', 'yaxx', 'yaxxx', 'yay', 'yck', 'yeah', 'year', 'years', 'yeesh', 'yeh', 'yelling', 'yellow', 'yelow', 'yen', 'yeovil', 'yep', 'yer', 'yes', 'yest', 'yesterday', 'yet', 'yetty', 'yetunde', 'yhl', 'yi', 'yifeng', 'yijue', 'ym', 'ymca', 'yo', 'yoga', 'yogasana', 'yor', 'yorge', 'you', 'youdoing', 'youi', 'young', 'younger', 'youphone', 'your', 'youre', 'yourinclusive', 'yourjob', 'yours', 'yourself', 'youuuuu', 'youwanna', 'yoville', 'yowifes', 'yoyyooo', 'yr', 'yrs', 'ystrday', 'ything', 'yummmm', 'yummy', 'yun', 'yunny', 'yuo', 'yuou', 'yup', 'yupz', 'zac', 'zaher', 'zealand', 'zebra', 'zed', 'zeros', 'zhong', 'zindgi', 'zoe', 'zogtorius', 'zoom', 'zouk', 'zyada', 'èn', 'ú1', '〨ud']\n"
     ]
    }
   ],
   "source": [
    "# le premier mot qui porte un sens \n",
    "print(cv.get_feature_names()[859])\n",
    "\n",
    "# dans un deuxième temps nous allons procéder à l'élimination des 858 premières rentrées car cela représente que des chiffres.\n",
    "\n",
    "ListWordWithNbr = cv.get_feature_names()[859:]\n",
    "print(ListWordWithNbr)\n",
    "\n",
    "#Nous envisageaons de l'utiliser dans le model d'apprentissage qui donne le meilleur résultat."
   ]
  },
  {
   "cell_type": "code",
   "execution_count": 353,
   "metadata": {},
   "outputs": [
    {
     "name": "stdout",
     "output_type": "stream",
     "text": [
      "[['js' 'maggi' 'magazine' ... 'the' 'you' 'to']]\n"
     ]
    }
   ],
   "source": [
    "feature_names = cv.get_feature_names()\n",
    "feature_array = np.array(feature_names)\n",
    "ListWord = np.argsort(X.sum(0))\n",
    "ListWord \n",
    "# les 10 mots les plus fréquents\n",
    "n = 10\n",
    "top_n = feature_array[ListWord][:10]\n",
    "print(top_n)\n"
   ]
  },
  {
   "cell_type": "code",
   "execution_count": 262,
   "metadata": {},
   "outputs": [],
   "source": [
    "# Stop words avec NLTK\n",
    "stop_words = nltk.corpus.stopwords.words(\"english\")\n",
    "#vectoriser = countVectorizer() avec stop_words\n",
    "cv = CountVectorizer(stop_words = stop_words)\n",
    "X = cv.fit_transform(corpus)"
   ]
  },
  {
   "cell_type": "code",
   "execution_count": 366,
   "metadata": {},
   "outputs": [
    {
     "name": "stdout",
     "output_type": "stream",
     "text": [
      "shape X1 with out number:  (7854, 7854)\n",
      "size X1:  7854\n",
      "Nous remarquons la différence de taille entre les deux matrices\n",
      "shape X with number :  (5572, 8713)\n",
      "size X:  74169\n"
     ]
    }
   ],
   "source": [
    "X1 = cv.fit_transform(ListWordWithNbr)\n",
    "print(\"shape X1 with out number: \", X1.shape)\n",
    "print(\"size X1: \",X1.size)\n",
    "print(\"Nous remarquons la différence de taille entre les deux matrices\")\n",
    "print(\"shape X with number : \", X.shape)\n",
    "print(\"size X: \",X.size)\n"
   ]
  },
  {
   "cell_type": "code",
   "execution_count": 263,
   "metadata": {},
   "outputs": [
    {
     "data": {
      "text/plain": [
       "179"
      ]
     },
     "execution_count": 263,
     "metadata": {},
     "output_type": "execute_result"
    }
   ],
   "source": [
    "# le nombre de mots à éliminer\n",
    "len(stop_words)"
   ]
  },
  {
   "cell_type": "code",
   "execution_count": 144,
   "metadata": {},
   "outputs": [],
   "source": [
    "# model logistic regression\n",
    "\n",
    "\n",
    "from sklearn.linear_model import LogisticRegression\n",
    "\n",
    "\n",
    "from sklearn.metrics import confusion_matrix\n",
    "from sklearn.metrics import accuracy_score\n",
    "\n",
    "from sklearn import metrics\n",
    "from  sklearn.Stop words avec NLTKStop words avec NLTKmodel_selection import train_test_split\n",
    "from sklearn.metrics import classification_report\n",
    "\n",
    "\n",
    "from time import time\n"
   ]
  },
  {
   "cell_type": "code",
   "execution_count": 229,
   "metadata": {},
   "outputs": [
    {
     "name": "stdout",
     "output_type": "stream",
     "text": [
      "Train score: 0.9964106245513281\n"
     ]
    }
   ],
   "source": [
    "\n",
    "model = LogisticRegression(random_state=42)\n",
    "model.fit(X,targets)\n",
    "S = model.score(X,targets)\n",
    "\n",
    "print(\"Train score:\", S )\n",
    "\n"
   ]
  },
  {
   "cell_type": "code",
   "execution_count": 164,
   "metadata": {},
   "outputs": [],
   "source": [
    "from  sklearn.model_selection import train_test_split\n",
    "\n"
   ]
  },
  {
   "cell_type": "code",
   "execution_count": 141,
   "metadata": {},
   "outputs": [
    {
     "data": {
      "text/plain": [
       "(3900, 8577)"
      ]
     },
     "execution_count": 141,
     "metadata": {},
     "output_type": "execute_result"
    }
   ],
   "source": [
    "X_train.shape\n"
   ]
  },
  {
   "cell_type": "markdown",
   "metadata": {},
   "source": [
    "###  3) Apprenstissage\n",
    "\n",
    "####  LogisticRegression"
   ]
  },
  {
   "cell_type": "code",
   "execution_count": 295,
   "metadata": {
    "scrolled": true
   },
   "outputs": [
    {
     "name": "stdout",
     "output_type": "stream",
     "text": [
      "Time : 0.1344740390777588\n",
      "================\n",
      "              precision    recall  f1-score   support\n",
      "\n",
      "           0       1.00      0.91      0.95       149\n",
      "           1       0.99      1.00      0.99       966\n",
      "\n",
      "    accuracy                           0.99      1115\n",
      "   macro avg       0.99      0.96      0.97      1115\n",
      "weighted avg       0.99      0.99      0.99      1115\n",
      "\n",
      "=======\n"
     ]
    },
    {
     "data": {
      "text/plain": [
       "array([[136,  13],\n",
       "       [  0, 966]])"
      ]
     },
     "execution_count": 295,
     "metadata": {},
     "output_type": "execute_result"
    }
   ],
   "source": [
    "# jeu test1 : test_size =0.2\n",
    "X_train, X_test, y_train, y_test = train_test_split(X,targets, test_size =0.2, random_state=42)\n",
    "\n",
    "model = LogisticRegression(random_state=42, max_iter = 200)\n",
    "\n",
    "start = time()\n",
    "model.fit(X_train,y_train)\n",
    "T1= time()-start\n",
    "\n",
    "y_pred = model.predict(X_test)\n",
    "\n",
    "print(\"Time :\", T1)\n",
    "print (\"================\")\n",
    "print(classification_report(y_test, y_pred))\n",
    "\n",
    "print(\"=======\")\n",
    "conf = confusion_matrix(y_test, y_pred)\n",
    "conf\n",
    "\n"
   ]
  },
  {
   "cell_type": "code",
   "execution_count": 314,
   "metadata": {},
   "outputs": [
    {
     "data": {
      "text/plain": [
       "{'algorithm': 'auto',\n",
       " 'leaf_size': 30,\n",
       " 'metric': 'minkowski',\n",
       " 'metric_params': None,\n",
       " 'n_jobs': None,\n",
       " 'n_neighbors': 3,\n",
       " 'p': 2,\n",
       " 'weights': 'uniform'}"
      ]
     },
     "execution_count": 314,
     "metadata": {},
     "output_type": "execute_result"
    }
   ],
   "source": [
    "model.get_params()"
   ]
  },
  {
   "cell_type": "code",
   "execution_count": 296,
   "metadata": {
    "scrolled": false
   },
   "outputs": [
    {
     "name": "stdout",
     "output_type": "stream",
     "text": [
      "Time : 0.12093234062194824\n",
      "================\n",
      "              precision    recall  f1-score   support\n",
      "\n",
      "           0       0.99      0.90      0.94       224\n",
      "           1       0.99      1.00      0.99      1448\n",
      "\n",
      "    accuracy                           0.99      1672\n",
      "   macro avg       0.99      0.95      0.97      1672\n",
      "weighted avg       0.99      0.99      0.98      1672\n",
      "\n",
      "=======\n"
     ]
    },
    {
     "data": {
      "text/plain": [
       "array([[ 202,   22],\n",
       "       [   3, 1445]])"
      ]
     },
     "execution_count": 296,
     "metadata": {},
     "output_type": "execute_result"
    }
   ],
   "source": [
    "# jeux de test2 : test_size =0.3\n",
    "X_train, X_test, y_train, y_test = train_test_split(X,targets, test_size =0.3, random_state=42)\n",
    "\n",
    "model = LogisticRegression(random_state=42, max_iter = 200)\n",
    "\n",
    "start = time()\n",
    "model.fit(X_train,y_train)\n",
    "T2= time()-start\n",
    "\n",
    "\n",
    "\n",
    "y_pred = model.predict(X_test)\n",
    "\n",
    "print(\"Time :\", T2)\n",
    "print (\"================\")\n",
    "print(classification_report(y_test, y_pred))\n",
    "\n",
    "print(\"=======\")\n",
    "conf = confusion_matrix(y_test, y_pred)\n",
    "conf"
   ]
  },
  {
   "cell_type": "code",
   "execution_count": 309,
   "metadata": {},
   "outputs": [
    {
     "name": "stdout",
     "output_type": "stream",
     "text": [
      "Time : 0.11784863471984863\n",
      "================\n",
      "              precision    recall  f1-score   support\n",
      "\n",
      "           0       0.98      0.90      0.94       370\n",
      "           1       0.98      1.00      0.99      2416\n",
      "\n",
      "    accuracy                           0.98      2786\n",
      "   macro avg       0.98      0.95      0.96      2786\n",
      "weighted avg       0.98      0.98      0.98      2786\n",
      "\n",
      "=======\n"
     ]
    },
    {
     "data": {
      "text/plain": [
       "array([[ 332,   38],\n",
       "       [   7, 2409]])"
      ]
     },
     "execution_count": 309,
     "metadata": {},
     "output_type": "execute_result"
    }
   ],
   "source": [
    "# jeux de test2 : test_size =0.5\n",
    "X_train, X_test, y_train, y_test = train_test_split(X,targets, test_size =0.5, random_state=42)\n",
    "\n",
    "model = LogisticRegression(random_state=42, max_iter = 200)\n",
    "\n",
    "start = time()\n",
    "model.fit(X_train,y_train)\n",
    "T3= time()-start\n",
    "\n",
    "\n",
    "\n",
    "y_pred = model.predict(X_test)\n",
    "\n",
    "print(\"Time :\", T3)\n",
    "print (\"================\")\n",
    "print(classification_report(y_test, y_pred))\n",
    "\n",
    "\n",
    "print(\"=======\")\n",
    "conf = confusion_matrix(y_test, y_pred)\n",
    "conf\n"
   ]
  },
  {
   "cell_type": "code",
   "execution_count": 306,
   "metadata": {},
   "outputs": [
    {
     "name": "stdout",
     "output_type": "stream",
     "text": [
      "Time : 0.17972207069396973\n",
      "================\n",
      "              precision    recall  f1-score   support\n",
      "\n",
      "           0       0.98      0.83      0.90       593\n",
      "           1       0.97      1.00      0.99      3865\n",
      "\n",
      "    accuracy                           0.97      4458\n",
      "   macro avg       0.98      0.91      0.94      4458\n",
      "weighted avg       0.97      0.97      0.97      4458\n",
      "\n",
      "=======\n"
     ]
    },
    {
     "data": {
      "text/plain": [
       "array([[ 490,  103],\n",
       "       [  11, 3854]])"
      ]
     },
     "execution_count": 306,
     "metadata": {},
     "output_type": "execute_result"
    }
   ],
   "source": [
    "# jeux de test2 : test_size =0.8\n",
    "X_train, X_test, y_train, y_test = train_test_split(X,targets, test_size =0.8, random_state=42)\n",
    "\n",
    "model = LogisticRegression(random_state=42, max_iter = 200)\n",
    "\n",
    "start = time()\n",
    "model.fit(X_train,y_train)\n",
    "T4= time()-start\n",
    "\n",
    "\n",
    "\n",
    "y_pred = model.predict(X_test)\n",
    "\n",
    "print(\"Time :\", T4)\n",
    "print (\"================\")\n",
    "print(classification_report(y_test, y_pred))\n",
    "\n",
    "\n",
    "print(\"=======\")\n",
    "conf = confusion_matrix(y_test, y_pred)\n",
    "conf\n"
   ]
  },
  {
   "cell_type": "markdown",
   "metadata": {},
   "source": [
    "Le meilleur résultat obtenu avec la regréssion logistique est celui du jeu de test1 : test_size =0.2.\n",
    "Il permet d'obtenir les résultats suivants :\n",
    "\n",
    "  precision    recall  f1-score   support\n",
    "\n",
    "           0       1.00      0.91      0.95       149\n",
    "           1       0.99      1.00      0.99       966\n",
    "           \n",
    "           \n",
    " Et une matrice de confusion quin présente les meilleures présication \n",
    " \n",
    " array([[136,  13],\n",
    "       [  0, 966]])\n",
    "       \n"
   ]
  },
  {
   "cell_type": "markdown",
   "metadata": {},
   "source": [
    "#### Nearest Neighbors Classification"
   ]
  },
  {
   "cell_type": "code",
   "execution_count": 313,
   "metadata": {},
   "outputs": [
    {
     "name": "stdout",
     "output_type": "stream",
     "text": [
      "Time : 0.0011990070343017578\n",
      "================\n",
      "              precision    recall  f1-score   support\n",
      "\n",
      "           0       0.98      0.90      0.94       370\n",
      "           1       0.98      1.00      0.99      2416\n",
      "\n",
      "    accuracy                           0.98      2786\n",
      "   macro avg       0.98      0.95      0.96      2786\n",
      "weighted avg       0.98      0.98      0.98      2786\n",
      "\n",
      "By score() :\n",
      "Accuracy train  : 0.9404163675520459\n",
      "test_size =0.5\n",
      "Accuracy test : 0.9203\n",
      "=======\n"
     ]
    }
   ],
   "source": [
    "#jeu test5 : test_size =0.5\n",
    "X_train, X_test, y_train, y_test = train_test_split(X,targets, test_size =0.5, random_state=42)\n",
    "\n",
    "\n",
    "from sklearn.neighbors import KNeighborsClassifier \n",
    "model = KNeighborsClassifier(n_neighbors=3) \n",
    "start = time()\n",
    "model.fit(X_train,y_train)\n",
    "T5= time()-start\n",
    "\n",
    " \n",
    "Y_pred = model.predict(X_test)\n",
    "\n",
    "\n",
    "print(\"Time :\", T5)\n",
    "print (\"================\")\n",
    "print(classification_report(y_test, y_pred))\n",
    "\n",
    "\n",
    "\n",
    "conf = confusion_matrix(y_test, y_pred)\n",
    "conf\n",
    "\n",
    "S = model.score(X_train,y_train)\n",
    "S1 = round(model.score(X_test,y_test),4)\n",
    "print ('By score() :')\n",
    "print(\"Accuracy train  :\", S )\n",
    "print (\"test_size =0.5\")\n",
    "print(\"Accuracy test :\", S1 ) \n",
    " \n",
    "print(\"=======\")    \n",
    "\n"
   ]
  },
  {
   "cell_type": "code",
   "execution_count": 315,
   "metadata": {},
   "outputs": [
    {
     "data": {
      "text/plain": [
       "{'algorithm': 'auto',\n",
       " 'leaf_size': 30,\n",
       " 'metric': 'minkowski',\n",
       " 'metric_params': None,\n",
       " 'n_jobs': None,\n",
       " 'n_neighbors': 3,\n",
       " 'p': 2,\n",
       " 'weights': 'uniform'}"
      ]
     },
     "execution_count": 315,
     "metadata": {},
     "output_type": "execute_result"
    }
   ],
   "source": [
    "model.get_params()"
   ]
  },
  {
   "cell_type": "markdown",
   "metadata": {},
   "source": [
    "#### Decision Trees"
   ]
  },
  {
   "cell_type": "code",
   "execution_count": null,
   "metadata": {},
   "outputs": [],
   "source": []
  },
  {
   "cell_type": "code",
   "execution_count": 311,
   "metadata": {},
   "outputs": [
    {
     "name": "stdout",
     "output_type": "stream",
     "text": [
      "Time : 0.0019736289978027344\n",
      "================\n",
      "              precision    recall  f1-score   support\n",
      "\n",
      "           0       0.98      0.90      0.94       370\n",
      "           1       0.98      1.00      0.99      2416\n",
      "\n",
      "    accuracy                           0.98      2786\n",
      "   macro avg       0.98      0.95      0.96      2786\n",
      "weighted avg       0.98      0.98      0.98      2786\n",
      "\n",
      "=======\n"
     ]
    },
    {
     "data": {
      "text/plain": [
       "array([[ 332,   38],\n",
       "       [   7, 2409]])"
      ]
     },
     "execution_count": 311,
     "metadata": {},
     "output_type": "execute_result"
    }
   ],
   "source": [
    "# jeu test6 : test_size =0.5\n",
    "\n",
    "from sklearn import tree\n",
    "model = tree.DecisionTreeClassifier()\n",
    "\n",
    "start = time()\n",
    "model.fit(X_train,y_train)\n",
    "T6= time()-start\n",
    "\n",
    "Y_pred = model.predict(X_test)\n",
    "\n",
    "print(\"Time :\", T5)\n",
    "print (\"================\")\n",
    "print(classification_report(y_test, y_pred))\n",
    "\n",
    "\n",
    "print(\"=======\")\n",
    "conf = confusion_matrix(y_test, y_pred)\n",
    "conf\n",
    "\n"
   ]
  },
  {
   "cell_type": "code",
   "execution_count": 316,
   "metadata": {},
   "outputs": [
    {
     "data": {
      "text/plain": [
       "{'algorithm': 'auto',\n",
       " 'leaf_size': 30,\n",
       " 'metric': 'minkowski',\n",
       " 'metric_params': None,\n",
       " 'n_jobs': None,\n",
       " 'n_neighbors': 3,\n",
       " 'p': 2,\n",
       " 'weights': 'uniform'}"
      ]
     },
     "execution_count": 316,
     "metadata": {},
     "output_type": "execute_result"
    }
   ],
   "source": [
    "model.get_params()"
   ]
  },
  {
   "cell_type": "markdown",
   "metadata": {},
   "source": [
    "Avec le test size = 0.5 la regression logistique et l'arbre de décision donnent les mêmes résultats. Cependant, l'arbre de décison est plus rapide avec  avec un temps de  0.00197au lieu de  0.11784 pour la regression linéaire.\n",
    "Nous remarquons , également, que la commande model.get_params() donne le même résultat pour les 3 models testés)."
   ]
  },
  {
   "cell_type": "code",
   "execution_count": 367,
   "metadata": {},
   "outputs": [
    {
     "ename": "ValueError",
     "evalue": "Found input variables with inconsistent numbers of samples: [7854, 5572]",
     "output_type": "error",
     "traceback": [
      "\u001b[0;31m---------------------------------------------------------------------------\u001b[0m",
      "\u001b[0;31mValueError\u001b[0m                                Traceback (most recent call last)",
      "\u001b[0;32m<ipython-input-367-fd1401640edf>\u001b[0m in \u001b[0;36m<module>\u001b[0;34m\u001b[0m\n\u001b[1;32m      1\u001b[0m \u001b[0;31m# jeu test1.1: test_size =0.2 et X 1 with out numbers\u001b[0m\u001b[0;34m\u001b[0m\u001b[0;34m\u001b[0m\u001b[0;34m\u001b[0m\u001b[0m\n\u001b[0;32m----> 2\u001b[0;31m \u001b[0mX_train\u001b[0m\u001b[0;34m,\u001b[0m \u001b[0mX_test\u001b[0m\u001b[0;34m,\u001b[0m \u001b[0my_train\u001b[0m\u001b[0;34m,\u001b[0m \u001b[0my_test\u001b[0m \u001b[0;34m=\u001b[0m \u001b[0mtrain_test_split\u001b[0m\u001b[0;34m(\u001b[0m\u001b[0mX1\u001b[0m\u001b[0;34m,\u001b[0m\u001b[0mtargets\u001b[0m\u001b[0;34m,\u001b[0m \u001b[0mtest_size\u001b[0m \u001b[0;34m=\u001b[0m\u001b[0;36m0.2\u001b[0m\u001b[0;34m,\u001b[0m \u001b[0mrandom_state\u001b[0m\u001b[0;34m=\u001b[0m\u001b[0;36m42\u001b[0m\u001b[0;34m)\u001b[0m\u001b[0;34m\u001b[0m\u001b[0;34m\u001b[0m\u001b[0m\n\u001b[0m\u001b[1;32m      3\u001b[0m \u001b[0;34m\u001b[0m\u001b[0m\n\u001b[1;32m      4\u001b[0m \u001b[0mmodel\u001b[0m \u001b[0;34m=\u001b[0m \u001b[0mLogisticRegression\u001b[0m\u001b[0;34m(\u001b[0m\u001b[0mrandom_state\u001b[0m\u001b[0;34m=\u001b[0m\u001b[0;36m42\u001b[0m\u001b[0;34m,\u001b[0m \u001b[0mmax_iter\u001b[0m \u001b[0;34m=\u001b[0m \u001b[0;36m200\u001b[0m\u001b[0;34m)\u001b[0m\u001b[0;34m\u001b[0m\u001b[0;34m\u001b[0m\u001b[0m\n\u001b[1;32m      5\u001b[0m \u001b[0;34m\u001b[0m\u001b[0m\n",
      "\u001b[0;32m~/anaconda3/envs/MachineLearning/lib/python3.7/site-packages/sklearn/model_selection/_split.py\u001b[0m in \u001b[0;36mtrain_test_split\u001b[0;34m(*arrays, **options)\u001b[0m\n\u001b[1;32m   2125\u001b[0m         \u001b[0;32mraise\u001b[0m \u001b[0mTypeError\u001b[0m\u001b[0;34m(\u001b[0m\u001b[0;34m\"Invalid parameters passed: %s\"\u001b[0m \u001b[0;34m%\u001b[0m \u001b[0mstr\u001b[0m\u001b[0;34m(\u001b[0m\u001b[0moptions\u001b[0m\u001b[0;34m)\u001b[0m\u001b[0;34m)\u001b[0m\u001b[0;34m\u001b[0m\u001b[0;34m\u001b[0m\u001b[0m\n\u001b[1;32m   2126\u001b[0m \u001b[0;34m\u001b[0m\u001b[0m\n\u001b[0;32m-> 2127\u001b[0;31m     \u001b[0marrays\u001b[0m \u001b[0;34m=\u001b[0m \u001b[0mindexable\u001b[0m\u001b[0;34m(\u001b[0m\u001b[0;34m*\u001b[0m\u001b[0marrays\u001b[0m\u001b[0;34m)\u001b[0m\u001b[0;34m\u001b[0m\u001b[0;34m\u001b[0m\u001b[0m\n\u001b[0m\u001b[1;32m   2128\u001b[0m \u001b[0;34m\u001b[0m\u001b[0m\n\u001b[1;32m   2129\u001b[0m     \u001b[0mn_samples\u001b[0m \u001b[0;34m=\u001b[0m \u001b[0m_num_samples\u001b[0m\u001b[0;34m(\u001b[0m\u001b[0marrays\u001b[0m\u001b[0;34m[\u001b[0m\u001b[0;36m0\u001b[0m\u001b[0;34m]\u001b[0m\u001b[0;34m)\u001b[0m\u001b[0;34m\u001b[0m\u001b[0;34m\u001b[0m\u001b[0m\n",
      "\u001b[0;32m~/anaconda3/envs/MachineLearning/lib/python3.7/site-packages/sklearn/utils/validation.py\u001b[0m in \u001b[0;36mindexable\u001b[0;34m(*iterables)\u001b[0m\n\u001b[1;32m    290\u001b[0m     \"\"\"\n\u001b[1;32m    291\u001b[0m     \u001b[0mresult\u001b[0m \u001b[0;34m=\u001b[0m \u001b[0;34m[\u001b[0m\u001b[0m_make_indexable\u001b[0m\u001b[0;34m(\u001b[0m\u001b[0mX\u001b[0m\u001b[0;34m)\u001b[0m \u001b[0;32mfor\u001b[0m \u001b[0mX\u001b[0m \u001b[0;32min\u001b[0m \u001b[0miterables\u001b[0m\u001b[0;34m]\u001b[0m\u001b[0;34m\u001b[0m\u001b[0;34m\u001b[0m\u001b[0m\n\u001b[0;32m--> 292\u001b[0;31m     \u001b[0mcheck_consistent_length\u001b[0m\u001b[0;34m(\u001b[0m\u001b[0;34m*\u001b[0m\u001b[0mresult\u001b[0m\u001b[0;34m)\u001b[0m\u001b[0;34m\u001b[0m\u001b[0;34m\u001b[0m\u001b[0m\n\u001b[0m\u001b[1;32m    293\u001b[0m     \u001b[0;32mreturn\u001b[0m \u001b[0mresult\u001b[0m\u001b[0;34m\u001b[0m\u001b[0;34m\u001b[0m\u001b[0m\n\u001b[1;32m    294\u001b[0m \u001b[0;34m\u001b[0m\u001b[0m\n",
      "\u001b[0;32m~/anaconda3/envs/MachineLearning/lib/python3.7/site-packages/sklearn/utils/validation.py\u001b[0m in \u001b[0;36mcheck_consistent_length\u001b[0;34m(*arrays)\u001b[0m\n\u001b[1;32m    254\u001b[0m     \u001b[0;32mif\u001b[0m \u001b[0mlen\u001b[0m\u001b[0;34m(\u001b[0m\u001b[0muniques\u001b[0m\u001b[0;34m)\u001b[0m \u001b[0;34m>\u001b[0m \u001b[0;36m1\u001b[0m\u001b[0;34m:\u001b[0m\u001b[0;34m\u001b[0m\u001b[0;34m\u001b[0m\u001b[0m\n\u001b[1;32m    255\u001b[0m         raise ValueError(\"Found input variables with inconsistent numbers of\"\n\u001b[0;32m--> 256\u001b[0;31m                          \" samples: %r\" % [int(l) for l in lengths])\n\u001b[0m\u001b[1;32m    257\u001b[0m \u001b[0;34m\u001b[0m\u001b[0m\n\u001b[1;32m    258\u001b[0m \u001b[0;34m\u001b[0m\u001b[0m\n",
      "\u001b[0;31mValueError\u001b[0m: Found input variables with inconsistent numbers of samples: [7854, 5572]"
     ]
    }
   ],
   "source": [
    "# jeu test1.1: test_size =0.2 et X 1 with out numbers\n",
    "X_train, X_test, y_train, y_test = train_test_split(X1,targets, test_size =0.2, random_state=42)\n",
    "\n",
    "model = LogisticRegression(random_state=42, max_iter = 200)\n",
    "\n",
    "start = time()\n",
    "model.fit(X_train,y_train)\n",
    "T11= time()-start\n",
    "\n",
    "y_pred = model.predict(X_test)\n",
    "\n",
    "print(\"Time :\", T11)\n",
    "print (\"================\")\n",
    "print(classification_report(y_test, y_pred))\n",
    "\n",
    "print(\"=======\")\n",
    "conf = confusion_matrix(y_test, y_pred)\n",
    "conf\n",
    "\n"
   ]
  },
  {
   "cell_type": "code",
   "execution_count": null,
   "metadata": {},
   "outputs": [],
   "source": [
    "# cross valisation\n",
    "from sklearn.model_selection import ShuffleSplit"
   ]
  },
  {
   "cell_type": "code",
   "execution_count": 230,
   "metadata": {},
   "outputs": [],
   "source": [
    "cv = ShuffleSplit(n_splits=5, test_size=0.20, random_state=42)"
   ]
  },
  {
   "cell_type": "code",
   "execution_count": 239,
   "metadata": {},
   "outputs": [],
   "source": [
    "from sklearn.model_selection import cross_val_score\n",
    "start = time()\n",
    "lr = model.fit(X,targets)\n",
    "scores = cross_val_score(lr, X, targets, cv=5)\n",
    "T2= time()-start"
   ]
  },
  {
   "cell_type": "code",
   "execution_count": 241,
   "metadata": {},
   "outputs": [
    {
     "name": "stdout",
     "output_type": "stream",
     "text": [
      "[0.9838565  0.98206278 0.98114901 0.97755835 0.98204668]\n",
      "time :  0.6234207153320312\n"
     ]
    }
   ],
   "source": [
    "print(scores)\n",
    "print(\"time : \", T2)"
   ]
  }
 ],
 "metadata": {
  "kernelspec": {
   "display_name": "Python 3",
   "language": "python",
   "name": "python3"
  },
  "language_info": {
   "codemirror_mode": {
    "name": "ipython",
    "version": 3
   },
   "file_extension": ".py",
   "mimetype": "text/x-python",
   "name": "python",
   "nbconvert_exporter": "python",
   "pygments_lexer": "ipython3",
   "version": "3.7.9"
  }
 },
 "nbformat": 4,
 "nbformat_minor": 4
}
